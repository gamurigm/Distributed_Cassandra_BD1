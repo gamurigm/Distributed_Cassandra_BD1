{
 "cells": [
  {
   "cell_type": "markdown",
   "id": "f417c6c6",
   "metadata": {},
   "source": [
    "# Monitorización de Sensores con Cassandra\n",
    "\n",
    "Este cuaderno muestra cómo conectar a una base de datos Cassandra desde Python, definir un modelo de datos para almacenar lecturas de sensores, insertar datos de ejemplo y realizar consultas. Además, se utilizarán UDTs (User-Defined Types) y se configurarán TTLs (Time-To-Live) para algunas entradas."
   ]
  },
  {
   "cell_type": "code",
   "execution_count": 130,
   "id": "3c9c7c2c",
   "metadata": {
    "tags": []
   },
   "outputs": [],
   "source": [
    "from cassandra.cluster import Cluster\n",
    "from cassandra.query import SimpleStatement\n",
    "from datetime import datetime\n",
    "import uuid"
   ]
  },
  {
   "cell_type": "markdown",
   "id": "b033c2cc",
   "metadata": {},
   "source": [
    "## Conexión a Cassandra\n",
    "\n",
    "Primero, conectamos a nuestro clúster de Cassandra. Asegúrate de que el clúster está corriendo y accesible desde tu máquina."
   ]
  },
  {
   "cell_type": "code",
   "execution_count": 131,
   "id": "58d9e1b4",
   "metadata": {
    "tags": []
   },
   "outputs": [],
   "source": [
    "# Conectar a Cassandra\n",
    "cluster = Cluster(['127.0.0.1'])  # Sustituye con la dirección de tu clúster\n",
    "session = cluster.connect()"
   ]
  },
  {
   "cell_type": "markdown",
   "id": "b62b5973",
   "metadata": {},
   "source": [
    "## Crear un Keyspace\n",
    "\n",
    "Un keyspace en Cassandra es un contenedor para las tablas. Aquí creamos un keyspace llamado `sensor_data`."
   ]
  },
  {
   "cell_type": "code",
   "execution_count": 132,
   "id": "6b28f8cb",
   "metadata": {
    "tags": []
   },
   "outputs": [
    {
     "data": {
      "text/plain": [
       "<cassandra.cluster.ResultSet at 0x1c143091f40>"
      ]
     },
     "execution_count": 132,
     "metadata": {},
     "output_type": "execute_result"
    }
   ],
   "source": [
    "# Crear un keyspace\n",
    "session.execute(\"\"\"\n",
    "    CREATE KEYSPACE IF NOT EXISTS sensor_data\n",
    "    WITH replication = {'class': 'SimpleStrategy', 'replication_factor': '3'}\n",
    "\"\"\")"
   ]
  },
  {
   "cell_type": "markdown",
   "id": "1f749706",
   "metadata": {},
   "source": [
    "## Seleccionar el Keyspace\n",
    "\n",
    "Después de crear el keyspace, lo seleccionamos para que las siguientes operaciones se apliquen dentro de este contexto."
   ]
  },
  {
   "cell_type": "code",
   "execution_count": 133,
   "id": "b2c1cfed",
   "metadata": {
    "tags": []
   },
   "outputs": [],
   "source": [
    "# Seleccionar el keyspace\n",
    "session.set_keyspace('sensor_data')"
   ]
  },
  {
   "cell_type": "markdown",
   "id": "73b5dd03",
   "metadata": {},
   "source": [
    "## Crear Tipos de Datos Definidos por el Usuario (UDTs)\n",
    "\n",
    "Los UDTs nos permiten definir tipos de datos personalizados que pueden ser reutilizados en nuestras tablas. Aquí creamos dos UDTs: `location` y `sensor_info`."
   ]
  },
  {
   "cell_type": "code",
   "execution_count": 134,
   "id": "a1fdd441",
   "metadata": {
    "tags": []
   },
   "outputs": [
    {
     "data": {
      "text/plain": [
       "<cassandra.cluster.ResultSet at 0x1c14387afa0>"
      ]
     },
     "execution_count": 134,
     "metadata": {},
     "output_type": "execute_result"
    }
   ],
   "source": [
    "# Crear UDT para la ubicación\n",
    "session.execute(\"\"\"\n",
    "    CREATE TYPE IF NOT EXISTS location (\n",
    "        latitude float,\n",
    "        longitude float\n",
    "    )\n",
    "\"\"\")"
   ]
  },
  {
   "cell_type": "markdown",
   "id": "c4da8252",
   "metadata": {},
   "source": [
    "## Crear la Tabla\n",
    "\n",
    "Creamos una tabla llamada `temperature_readings` que usa los UDTs para almacenar información detallada sobre los sensores y sus lecturas de temperatura. Usamos `sensor_id` como clave primaria."
   ]
  },
  {
   "cell_type": "code",
   "execution_count": 135,
   "id": "2b84c728",
   "metadata": {
    "tags": []
   },
   "outputs": [
    {
     "data": {
      "text/plain": [
       "<cassandra.cluster.ResultSet at 0x1c143881c40>"
      ]
     },
     "execution_count": 135,
     "metadata": {},
     "output_type": "execute_result"
    }
   ],
   "source": [
    "# Crear una tabla para almacenar las lecturas de temperatura\n",
    "session.execute(\"\"\"\n",
    "    CREATE TABLE IF NOT EXISTS temperature_readings (\n",
    "        sensor_id UUID,\n",
    "        purpose text,\n",
    "        location frozen<location>,\n",
    "        timestamp TIMESTAMP,\n",
    "        temperature FLOAT,\n",
    "        PRIMARY KEY (sensor_id, timestamp)\n",
    "    ) WITH CLUSTERING ORDER BY (timestamp DESC)\n",
    "\"\"\")"
   ]
  },
  {
   "cell_type": "markdown",
   "id": "6ed3cf8a",
   "metadata": {},
   "source": [
    "## Insertar Datos de Ejemplo\n",
    "\n",
    "Insertamos datos de ejemplo en la tabla `temperature_readings`, incluyendo un TTL (Time-To-Live) de 60 segundos para una de las entradas. Esto significa que la entrada será eliminada automáticamente después de 60 segundos."
   ]
  },
  {
   "cell_type": "code",
   "execution_count": 136,
   "id": "da8324e5",
   "metadata": {
    "tags": []
   },
   "outputs": [
    {
     "data": {
      "text/plain": [
       "<cassandra.cluster.ResultSet at 0x1c143428a00>"
      ]
     },
     "execution_count": 136,
     "metadata": {},
     "output_type": "execute_result"
    }
   ],
   "source": [
    "# Registrar UDTs en el mapeador del cluster\n",
    "cluster.register_user_type('sensor_data', 'location', dict)\n",
    "\n",
    "# Insertar datos de ejemplo\n",
    "sensor_id = uuid.uuid4()\n",
    "location_data = {\n",
    "    'latitude': 40.7128,\n",
    "    'longitude': -74.0060\n",
    "}\n",
    "sensor_data = {\n",
    "    'purpose': 'temperature monitoring',\n",
    "    'location': location_data\n",
    "}\n",
    "\n",
    "# Insertar con TTL de 60 segundos\n",
    "session.execute(\"\"\"\n",
    "    INSERT INTO temperature_readings (sensor_id, purpose, location, timestamp, temperature)\n",
    "    VALUES (%s, %s, %s, %s, %s) USING TTL 60\n",
    "    \"\"\",\n",
    "    (sensor_id, sensor_data['purpose'], sensor_data['location'], datetime.utcnow(), 22.5)\n",
    ")\n",
    "\n",
    "# Insertar sin TTL\n",
    "session.execute(\"\"\"\n",
    "    INSERT INTO temperature_readings (sensor_id, purpose, location, timestamp, temperature)\n",
    "    VALUES (%s, %s, %s, %s, %s)\n",
    "    \"\"\",\n",
    "    (sensor_id, sensor_data['purpose'], sensor_data['location'], datetime.utcnow(), 23.0)\n",
    ")"
   ]
  },
  {
   "cell_type": "markdown",
   "id": "b6a1ac85",
   "metadata": {},
   "source": [
    "## Consultar Lecturas por Propósito\n",
    "\n",
    "Definimos una función para obtener lecturas de temperatura filtradas por el propósito del sensor. Utilizamos `ALLOW FILTERING` en la consulta para permitir el filtrado por una columna que no está en la clave primaria."
   ]
  },
  {
   "cell_type": "code",
   "execution_count": 137,
   "id": "16d76b29",
   "metadata": {
    "tags": []
   },
   "outputs": [],
   "source": [
    "# Función para obtener lecturas de temperatura por propósito\n",
    "def get_temperature_readings_by_purpose(purpose):\n",
    "    query = SimpleStatement(\"\"\"\n",
    "        SELECT sensor_id, purpose, location, timestamp, temperature FROM temperature_readings\n",
    "        WHERE purpose = %s ALLOW FILTERING\n",
    "    \"\"\", fetch_size=10)\n",
    "    rows = session.execute(query, (purpose,))\n",
    "    for row in rows:\n",
    "        print(f\"Sensor ID: {row.sensor_id}, Purpose: {row.purpose}, \"\n",
    "              f\"Location: ({row.location['latitude']}, {row.location['longitude']}), \"\n",
    "              f\"Timestamp: {row.timestamp}, Temperature: {row.temperature}\")"
   ]
  },
  {
   "cell_type": "markdown",
   "id": "183e35b2",
   "metadata": {},
   "source": [
    "## Obtener y Mostrar Lecturas\n",
    "\n",
    "Usamos la función `get_temperature_readings_by_purpose` para obtener y mostrar las lecturas de temperatura para los sensores cuyo propósito es `temperature monitoring`."
   ]
  },
  {
   "cell_type": "code",
   "execution_count": 138,
   "id": "eea4b18b",
   "metadata": {
    "tags": []
   },
   "outputs": [
    {
     "name": "stdout",
     "output_type": "stream",
     "text": [
      "Sensor ID: cbb82f31-915c-4845-9f1e-5762f753462f, Purpose: temperature monitoring, Location: (None, None), Timestamp: 2024-05-31 15:24:34.410000, Temperature: 23.0\n",
      "Sensor ID: cbb82f31-915c-4845-9f1e-5762f753462f, Purpose: temperature monitoring, Location: (None, None), Timestamp: 2024-05-31 15:24:34.392000, Temperature: 22.5\n"
     ]
    }
   ],
   "source": [
    "# Obtener las lecturas de temperatura para sensores con el propósito de 'temperature monitoring'\n",
    "get_temperature_readings_by_purpose('temperature monitoring')"
   ]
  },
  {
   "cell_type": "code",
   "execution_count": null,
   "id": "ed82a348-1597-422d-a7e8-c3c7eca39fcd",
   "metadata": {},
   "outputs": [],
   "source": []
  },
  {
   "cell_type": "markdown",
   "id": "7c0d3589",
   "metadata": {},
   "source": [
    "## Cerrar la Conexión\n",
    "\n",
    "Finalmente, cerramos la conexión al clúster de Cassandra."
   ]
  },
  {
   "cell_type": "code",
   "execution_count": 36,
   "id": "8b9fc27e",
   "metadata": {
    "tags": []
   },
   "outputs": [],
   "source": [
    "# Cerrar la conexión\n",
    "cluster.shutdown()"
   ]
  },
  {
   "cell_type": "code",
   "execution_count": null,
   "id": "26b91b80-4c6f-4166-99ae-04ba9906d82a",
   "metadata": {},
   "outputs": [],
   "source": []
  }
 ],
 "metadata": {
  "kernelspec": {
   "display_name": "Python 3 (ipykernel)",
   "language": "python",
   "name": "python3"
  },
  "language_info": {
   "codemirror_mode": {
    "name": "ipython",
    "version": 3
   },
   "file_extension": ".py",
   "mimetype": "text/x-python",
   "name": "python",
   "nbconvert_exporter": "python",
   "pygments_lexer": "ipython3",
   "version": "3.9.18"
  }
 },
 "nbformat": 4,
 "nbformat_minor": 5
}
