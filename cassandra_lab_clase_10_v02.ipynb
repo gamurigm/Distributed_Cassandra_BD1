{
 "cells": [
  {
   "cell_type": "markdown",
   "id": "f417c6c6",
   "metadata": {},
   "source": [
    "# Reto: Análisis de Ventas de una Tienda en Línea\n",
    "## Descripción del Desafío:\n",
    "\n",
    "- Tienes que conectar a una base de datos Cassandra.\n",
    "- Crear una tabla que registre las ventas de una tienda en línea.\n",
    "- Insertar datos en la tabla a partir de consultas predefinidas.\n",
    "- Realizar dos consultas sobre los datos insertados.\n",
    "\n",
    "### Tabla de Ventas:\n",
    "La tabla se llamará sales.\n",
    "\n",
    "Las columnas serán:\n",
    "- order_id (UUID): Identificador único de la orden.\n",
    "- customer_id (UUID): Identificador único del cliente.\n",
    "- product_id (UUID): Identificador único del producto.\n",
    "- quantity (int): Cantidad del producto vendido.\n",
    "- order_date (timestamp): Fecha y hora de la orden.\n",
    "- total_amount (decimal): Monto total de la orden.\n",
    "\n",
    "Consultas Requeridas:\n",
    "\n",
    "> - Consulta 1: Obtener el total de ventas realizadas en un rango de fechas específico.\n",
    "> - Consulta 2: Obtener el total de productos vendidos por cada cliente.\n",
    "\n",
    "#### Paso 1: Conectar a Cassandra\n",
    "Primero, necesitas instalar el paquete cassandra-driver si no lo tienes instalado:"
   ]
  },
  {
   "cell_type": "code",
   "execution_count": 1,
   "id": "85930a53-811c-43c0-bac0-34a895c79bad",
   "metadata": {
    "tags": []
   },
   "outputs": [],
   "source": [
    "#!pip install cassandra-driver"
   ]
  },
  {
   "cell_type": "code",
   "execution_count": 1,
   "id": "3c9c7c2c",
   "metadata": {
    "tags": []
   },
   "outputs": [],
   "source": [
    "from cassandra.cluster import Cluster\n",
    "from cassandra.auth import PlainTextAuthProvider\n",
    "from cassandra.query import SimpleStatement\n",
    "from datetime import datetime, timedelta\n",
    "import uuid, random, decimal"
   ]
  },
  {
   "cell_type": "markdown",
   "id": "b033c2cc",
   "metadata": {},
   "source": [
    "## Conexión a Cassandra\n",
    "\n",
    "Primero, conectamos a nuestro clúster de Cassandra. Asegúrate de que el clúster está corriendo y accesible desde tu máquina."
   ]
  },
  {
   "cell_type": "code",
   "execution_count": 2,
   "id": "3b838897-df68-4d01-98ff-a3e79ff7397a",
   "metadata": {
    "tags": []
   },
   "outputs": [],
   "source": [
    "# Conexión a Cassandra\n",
    "# cloud_config= {\n",
    "#        'secure_connect_bundle': '<path_to_secure_connect_bundle>'\n",
    "# }\n",
    "# auth_provider = PlainTextAuthProvider('<client_id>', '<client_secret>')\n",
    "# cluster = Cluster(cloud=cloud_config, auth_provider=auth_provider)\n",
    "# session = cluster.connect('<keyspace_name>')"
   ]
  },
  {
   "cell_type": "code",
   "execution_count": 3,
   "id": "58d9e1b4",
   "metadata": {
    "tags": []
   },
   "outputs": [],
   "source": [
    "# Conectar a Cassandra\n",
    "cluster = Cluster(['127.0.0.1'])  # Sustituye con la dirección de tu clúster\n",
    "session = cluster.connect()"
   ]
  },
  {
   "cell_type": "markdown",
   "id": "b62b5973",
   "metadata": {},
   "source": [
    "#### Paso 2: Script de Conexión y Creación de Tabla\n",
    "Aquí tienes un script en Python que puedes usar para conectar a Cassandra y crear la tabla:"
   ]
  },
  {
   "cell_type": "markdown",
   "id": "16ba2302-db72-4d54-b901-0a55afa1963b",
   "metadata": {},
   "source": [
    "## Crear un Keyspace\n",
    "\n",
    "Un keyspace en Cassandra es un contenedor para las tablas. Aquí creamos un keyspace llamado `sales_data`."
   ]
  },
  {
   "cell_type": "code",
   "execution_count": 4,
   "id": "5bad206f-42cb-495b-9bcf-fbdce1f1c160",
   "metadata": {
    "tags": []
   },
   "outputs": [
    {
     "data": {
      "text/plain": [
       "<cassandra.cluster.ResultSet at 0x25896cbfe50>"
      ]
     },
     "execution_count": 4,
     "metadata": {},
     "output_type": "execute_result"
    }
   ],
   "source": [
    "# Crear un keyspace\n",
    "session.execute(\"\"\"\n",
    "    CREATE KEYSPACE IF NOT EXISTS sales_data\n",
    "    WITH replication = {'class': 'SimpleStrategy', 'replication_factor': '3'}\n",
    "\"\"\")"
   ]
  },
  {
   "cell_type": "markdown",
   "id": "1f749706",
   "metadata": {},
   "source": [
    "## Seleccionar el Keyspace\n",
    "\n",
    "Después de crear el keyspace, lo seleccionamos para que las siguientes operaciones se apliquen dentro de este contexto."
   ]
  },
  {
   "cell_type": "code",
   "execution_count": 5,
   "id": "b2c1cfed",
   "metadata": {
    "tags": []
   },
   "outputs": [],
   "source": [
    "# Seleccionar el keyspace\n",
    "session.set_keyspace('sales_data')"
   ]
  },
  {
   "cell_type": "markdown",
   "id": "cd126805-f1d6-470a-90f3-ae56c9066ee0",
   "metadata": {},
   "source": [
    "#### Paso 3: Creación de Tabla\n",
    "Aquí tienes un script en Python que puedes usar para crear la tabla:"
   ]
  },
  {
   "cell_type": "code",
   "execution_count": 6,
   "id": "6b28f8cb",
   "metadata": {
    "tags": []
   },
   "outputs": [
    {
     "name": "stdout",
     "output_type": "stream",
     "text": [
      "Tabla 'sales' creada exitosamente.\n"
     ]
    }
   ],
   "source": [
    "# Creación de la tabla de ventas\n",
    "create_table_query = \"\"\"\n",
    "CREATE TABLE IF NOT EXISTS sales (\n",
    "    order_id UUID,\n",
    "    customer_id UUID,\n",
    "    product_id UUID,\n",
    "    quantity INT,\n",
    "    order_date TIMESTAMP,\n",
    "    total_amount DECIMAL,\n",
    "    PRIMARY KEY (order_id, customer_id)\n",
    ")  WITH CLUSTERING ORDER BY (customer_id DESC);\n",
    "\"\"\"\n",
    "session.execute(create_table_query)\n",
    "\n",
    "print(\"Tabla 'sales' creada exitosamente.\")\n"
   ]
  },
  {
   "cell_type": "markdown",
   "id": "73b5dd03",
   "metadata": {},
   "source": [
    "#### Paso 4: Insertar Datos en la Tabla\n",
    "Ahora, insertemos algunos datos de ejemplo en la tabla:"
   ]
  },
  {
   "cell_type": "code",
   "execution_count": 7,
   "id": "a1fdd441",
   "metadata": {
    "tags": []
   },
   "outputs": [
    {
     "name": "stdout",
     "output_type": "stream",
     "text": [
      "Datos insertados exitosamente.\n"
     ]
    }
   ],
   "source": [
    "insert_data_query = \"\"\"\n",
    "INSERT INTO sales (order_id, customer_id, product_id, quantity, order_date, total_amount)\n",
    "VALUES (%s, %s, %s, %s, %s, %s)\n",
    "\"\"\"\n",
    "\n",
    "order_id = uuid.uuid4()\n",
    "customer_id = uuid.uuid4()\n",
    "product_id = uuid.uuid4()\n",
    "quantity = 3\n",
    "order_date = datetime.now()\n",
    "total_amount = 150.75\n",
    "\n",
    "session.execute(insert_data_query, (order_id, customer_id, product_id, quantity, order_date, total_amount))\n",
    "\n",
    "print(\"Datos insertados exitosamente.\")\n"
   ]
  },
  {
   "cell_type": "markdown",
   "id": "c4da8252",
   "metadata": {},
   "source": [
    "#### Paso 5: Realizar Consultas\n",
    "Finalmente, aquí tienes las consultas requeridas:"
   ]
  },
  {
   "cell_type": "code",
   "execution_count": 8,
   "id": "2b84c728",
   "metadata": {
    "tags": []
   },
   "outputs": [
    {
     "name": "stdout",
     "output_type": "stream",
     "text": [
      "Total de ventas: 150.75\n"
     ]
    }
   ],
   "source": [
    "# Consulta 1: Total de ventas en un rango de fechas\n",
    "start_date = datetime(2024, 1, 1)\n",
    "end_date = datetime(2024, 12, 31)\n",
    "\n",
    "query1 = \"\"\"\n",
    "SELECT SUM(total_amount) AS total_sales\n",
    "FROM sales\n",
    "WHERE order_date >= %s AND order_date <= %s ALLOW FILTERING\n",
    "\"\"\"\n",
    "result1 = session.execute(query1, (start_date, end_date))\n",
    "for row in result1:\n",
    "    print(f\"Total de ventas: {row.total_sales}\")"
   ]
  },
  {
   "cell_type": "code",
   "execution_count": 9,
   "id": "bb83fd9b-32c8-4a5c-a5f7-1b0152233722",
   "metadata": {
    "tags": []
   },
   "outputs": [
    {
     "name": "stdout",
     "output_type": "stream",
     "text": [
      "Cliente 6cc3c07f-a626-4270-a357-ece2096dd257 ha comprado 3 productos\n"
     ]
    }
   ],
   "source": [
    "# Consulta 2: Total de productos vendidos por cliente\n",
    "query2 = \"\"\"\n",
    "SELECT order_id, SUM(quantity) AS total_products\n",
    "FROM sales\n",
    "GROUP BY order_id\n",
    "\"\"\"\n",
    "result2 = session.execute(query2)\n",
    "for row in result2:\n",
    "    print(f\"Cliente {row.order_id} ha comprado {row.total_products} productos\")"
   ]
  },
  {
   "cell_type": "markdown",
   "id": "6ed3cf8a",
   "metadata": {},
   "source": [
    "## Insertar Datos de Ejemplo\n",
    "\n",
    "Insertamos datos de ejemplo en la tabla `sales`."
   ]
  },
  {
   "cell_type": "code",
   "execution_count": 10,
   "id": "984ffd71-f2fa-4e68-8665-d54427a108d3",
   "metadata": {
    "tags": []
   },
   "outputs": [],
   "source": [
    "def insert_artificial_data(session, num_records, start_date, end_date, use_ttl=False, ttl_seconds=0):\n",
    "    insert_data_query_with_ttl = \"\"\"\n",
    "    INSERT INTO sales (order_id, customer_id, product_id, quantity, order_date, total_amount)\n",
    "    VALUES (%s, %s, %s, %s, %s, %s) USING TTL %s\n",
    "    \"\"\"\n",
    "    \n",
    "    insert_data_query_without_ttl = \"\"\"\n",
    "    INSERT INTO sales (order_id, customer_id, product_id, quantity, order_date, total_amount)\n",
    "    VALUES (%s, %s, %s, %s, %s, %s)\n",
    "    \"\"\"\n",
    "    \n",
    "    delta = end_date - start_date\n",
    "    \n",
    "    for _ in range(num_records):\n",
    "        order_id = uuid.uuid4()\n",
    "        customer_id = uuid.uuid4()\n",
    "        product_id = uuid.uuid4()\n",
    "        quantity = random.randint(1, 10)\n",
    "        order_date = start_date + timedelta(days=random.randint(0, delta.days),seconds=random.randint(0, 86400))\n",
    "        total_amount = decimal.Decimal(random.uniform(10.0, 500.0)).quantize(decimal.Decimal('0.01'))\n",
    "        \n",
    "        if use_ttl:\n",
    "            session.execute(insert_data_query_with_ttl, (order_id, customer_id, product_id, quantity, order_date, total_amount, ttl_seconds))\n",
    "        else:\n",
    "            session.execute(insert_data_query_without_ttl, (order_id, customer_id, product_id, quantity, order_date, total_amount))\n",
    "    \n",
    "    print(f\"Se han insertado {num_records} registros artificiales en la tabla 'sales'.\")"
   ]
  },
  {
   "cell_type": "code",
   "execution_count": 11,
   "id": "743aac9f-bc86-40a0-a8ad-a38ea661ddb1",
   "metadata": {
    "tags": []
   },
   "outputs": [
    {
     "name": "stdout",
     "output_type": "stream",
     "text": [
      "Se han insertado 1000 registros artificiales en la tabla 'sales'.\n"
     ]
    }
   ],
   "source": [
    "# Parámetros\n",
    "num_records = 1000\n",
    "start_date = datetime(2023, 1, 1)\n",
    "end_date = datetime(2023, 12, 31)\n",
    "use_ttl = True\n",
    "ttl_seconds = 30 \n",
    "\n",
    "# Llamada a la función para insertar datos artificiales con TTL\n",
    "insert_artificial_data(session, num_records, start_date, end_date, use_ttl, ttl_seconds)"
   ]
  },
  {
   "cell_type": "code",
   "execution_count": 12,
   "id": "03926565-86f0-44c0-8166-cb48256de9b1",
   "metadata": {
    "tags": []
   },
   "outputs": [],
   "source": [
    "def fetch_all_sales(session):\n",
    "    select_all_query = \"SELECT * FROM sales\"\n",
    "    rows = session.execute(select_all_query)\n",
    "    \n",
    "    sales_data = []\n",
    "    for row in rows:\n",
    "        sales_data.append({\n",
    "            'order_id': row.order_id,\n",
    "            'customer_id': row.customer_id,\n",
    "            'product_id': row.product_id,\n",
    "            'quantity': row.quantity,\n",
    "            'order_date': row.order_date,\n",
    "            'total_amount': row.total_amount\n",
    "        })\n",
    "    \n",
    "    return sales_data"
   ]
  },
  {
   "cell_type": "code",
   "execution_count": 16,
   "id": "e698eca0-73e7-4680-bd6d-4376430e7493",
   "metadata": {
    "tags": []
   },
   "outputs": [
    {
     "name": "stdout",
     "output_type": "stream",
     "text": [
      "{'order_id': UUID('e1d8aa9f-09d6-4249-9672-cc35935ac209'), 'customer_id': UUID('5249309c-77c9-483f-a3e4-394b10f79369'), 'product_id': UUID('78dcef15-d44e-4c0d-861f-7d51eca7954f'), 'quantity': 4, 'order_date': datetime.datetime(2023, 12, 31, 7, 34, 20), 'total_amount': Decimal('327.88')}\n",
      "{'order_id': UUID('d8173758-0dc0-48e1-af11-4bc229ba38db'), 'customer_id': UUID('8ef646d9-666e-44b8-b795-55d2648f1ed6'), 'product_id': UUID('82ee69e7-8f9a-41a9-ab20-ff839bac3dd7'), 'quantity': 6, 'order_date': datetime.datetime(2023, 3, 5, 18, 40, 43), 'total_amount': Decimal('494.68')}\n",
      "{'order_id': UUID('780d43ee-84f8-4e4d-9c63-be9284f4eec1'), 'customer_id': UUID('6ef3c8a2-da7a-46f0-86e0-d81135f9ea53'), 'product_id': UUID('036c9413-1753-48a5-8242-1b6db01c6ea2'), 'quantity': 7, 'order_date': datetime.datetime(2023, 4, 8, 18, 2, 34), 'total_amount': Decimal('138.96')}\n",
      "{'order_id': UUID('3f07c464-d9d6-4014-bcbf-7a7332178b2e'), 'customer_id': UUID('fc2ffdca-2de2-4f42-beb9-b814bbcb6895'), 'product_id': UUID('1e42b140-586e-45e5-a305-e1d23f764597'), 'quantity': 7, 'order_date': datetime.datetime(2023, 8, 17, 18, 17), 'total_amount': Decimal('12.65')}\n",
      "{'order_id': UUID('3d264c6f-0476-4233-a750-8c87d4f187c4'), 'customer_id': UUID('7e927996-d205-4b2b-872f-f8d89936c6f1'), 'product_id': UUID('c012e2fe-ba68-44c8-b14b-b76d689ef59d'), 'quantity': 1, 'order_date': datetime.datetime(2023, 10, 9, 8, 24, 20), 'total_amount': Decimal('398.82')}\n",
      "{'order_id': UUID('98c0a08f-bb0c-480d-880e-c4d158b3916c'), 'customer_id': UUID('b9fa9c8b-5022-47eb-8857-ec9d60bb92b1'), 'product_id': UUID('b27136c7-efec-4518-a56b-837587f7ca74'), 'quantity': 4, 'order_date': datetime.datetime(2023, 3, 24, 22, 21, 18), 'total_amount': Decimal('357.70')}\n",
      "{'order_id': UUID('05802f06-3cc9-4459-86a7-754be5ca4d50'), 'customer_id': UUID('91aaf52d-f5d2-4b87-9c92-c77f7daa4b33'), 'product_id': UUID('bb5e1df8-f6f1-4c8f-8ae6-83975364e72a'), 'quantity': 4, 'order_date': datetime.datetime(2023, 4, 18, 12, 39, 36), 'total_amount': Decimal('471.40')}\n",
      "{'order_id': UUID('023d1ab5-50bd-4d01-8b50-96d44cd1c7e3'), 'customer_id': UUID('d5e64025-9d93-41a7-a7ec-bf891eef1913'), 'product_id': UUID('f01a116b-5314-4ea4-ad62-566ed6000370'), 'quantity': 7, 'order_date': datetime.datetime(2023, 9, 1, 18, 51, 42), 'total_amount': Decimal('122.91')}\n",
      "{'order_id': UUID('9da1e2c3-57b7-4ad7-ba23-e5bf0eba3116'), 'customer_id': UUID('6e66cd79-890f-44f8-97eb-87fd26fdadbc'), 'product_id': UUID('f154a5ee-39ca-4474-9481-922da5f866f7'), 'quantity': 8, 'order_date': datetime.datetime(2023, 8, 13, 21, 55, 49), 'total_amount': Decimal('17.05')}\n",
      "{'order_id': UUID('a893e7b5-3a2f-4977-a26f-d25d6ca947f9'), 'customer_id': UUID('c5475925-044e-44cf-965d-4c28470941c8'), 'product_id': UUID('6f8e47eb-f297-4fff-883c-9594841cde97'), 'quantity': 9, 'order_date': datetime.datetime(2023, 9, 29, 22, 20, 49), 'total_amount': Decimal('151.79')}\n",
      "{'order_id': UUID('dd6867ad-5731-4d43-8988-c1a0e68ea8dd'), 'customer_id': UUID('4acbae65-71ee-4e33-893b-e3f08389ce45'), 'product_id': UUID('7e542769-9656-41b9-b669-cf679fcae8e4'), 'quantity': 9, 'order_date': datetime.datetime(2023, 3, 3, 6, 14, 24), 'total_amount': Decimal('153.67')}\n",
      "{'order_id': UUID('029cf2e2-bf98-4144-b16e-753bdb877e2a'), 'customer_id': UUID('1e5ba821-dfea-4814-b710-0f5beaa9f1f1'), 'product_id': UUID('8781557e-89c9-42dd-a8c9-36ec46fd1316'), 'quantity': 4, 'order_date': datetime.datetime(2023, 6, 12, 13, 22, 33), 'total_amount': Decimal('44.09')}\n",
      "{'order_id': UUID('ee20b341-66cd-4536-a391-a23ba3794726'), 'customer_id': UUID('8f84db7b-2fbe-4668-b27c-ebaf98fc49db'), 'product_id': UUID('ad8f0d3e-1ff6-4fbf-b1a2-ff1c330834e6'), 'quantity': 7, 'order_date': datetime.datetime(2023, 8, 19, 10, 54, 34), 'total_amount': Decimal('74.72')}\n",
      "{'order_id': UUID('f551c618-200c-4423-943b-e544480e7482'), 'customer_id': UUID('5df3d66c-f556-4393-a873-078bfcf06796'), 'product_id': UUID('b30b27e0-26ca-4c85-866c-6f5d2bb554a7'), 'quantity': 9, 'order_date': datetime.datetime(2023, 5, 19, 2, 9, 31), 'total_amount': Decimal('155.95')}\n",
      "{'order_id': UUID('2deebd93-4dd3-43e5-985b-62377d3eea04'), 'customer_id': UUID('b44f3416-9e45-4739-8614-b12f85e52d10'), 'product_id': UUID('73214c7a-7080-4d11-96a7-143ac09d1300'), 'quantity': 10, 'order_date': datetime.datetime(2023, 1, 15, 4, 55, 24), 'total_amount': Decimal('333.98')}\n",
      "{'order_id': UUID('e7043709-ec70-496d-a34e-9feb030c1b5c'), 'customer_id': UUID('f117af18-a83a-4a9d-bd91-3ef2da950468'), 'product_id': UUID('8aae61a9-69e2-47f7-8ea5-46aaabec8e5e'), 'quantity': 6, 'order_date': datetime.datetime(2023, 1, 13, 17, 15, 16), 'total_amount': Decimal('368.91')}\n",
      "{'order_id': UUID('57022b7a-7fa3-47b2-babc-0a195ee55e74'), 'customer_id': UUID('71d6c0c3-5a36-43d0-ba33-4a164e7caf1b'), 'product_id': UUID('c9784cca-ebe2-4469-a263-d360fe61c475'), 'quantity': 5, 'order_date': datetime.datetime(2023, 10, 17, 0, 34, 53), 'total_amount': Decimal('251.81')}\n",
      "{'order_id': UUID('15140fca-e536-4328-8742-b5dfc8ec80da'), 'customer_id': UUID('854f0cf5-4816-4b6e-91de-c43305ef5f44'), 'product_id': UUID('a11241a0-ebbf-4d0a-aeaa-03f79eb600c4'), 'quantity': 7, 'order_date': datetime.datetime(2023, 10, 13, 4, 24, 49), 'total_amount': Decimal('323.45')}\n",
      "{'order_id': UUID('713e5958-6b5a-412f-a70d-806f908eea4c'), 'customer_id': UUID('d7d45967-7176-4368-8960-d0b60e64cfa7'), 'product_id': UUID('84be95c4-7659-4773-91a8-999da6021c30'), 'quantity': 7, 'order_date': datetime.datetime(2023, 9, 9, 17, 15, 53), 'total_amount': Decimal('383.58')}\n",
      "{'order_id': UUID('b46f71a6-ab5d-42c0-b2a9-2078892a7d83'), 'customer_id': UUID('62b6df0f-4b01-4328-982a-325928bf6d8c'), 'product_id': UUID('d1e068be-0bc0-4a67-90a8-1080375f8dda'), 'quantity': 4, 'order_date': datetime.datetime(2023, 8, 4, 16, 55, 52), 'total_amount': Decimal('390.50')}\n",
      "{'order_id': UUID('a7ced33d-d4b8-49f3-88b9-cb45664e3bb7'), 'customer_id': UUID('b65019b3-eb6b-42dd-815f-2512f04123ab'), 'product_id': UUID('3b877b39-5f80-4165-b004-a6ab711a934b'), 'quantity': 3, 'order_date': datetime.datetime(2023, 9, 22, 1, 31), 'total_amount': Decimal('429.18')}\n",
      "{'order_id': UUID('fc6c848e-bfb6-4f9d-90bd-3cd081588f71'), 'customer_id': UUID('25f4b34b-51d6-4915-bfe2-c10b4f9636cf'), 'product_id': UUID('9083797b-be70-424f-a059-3b96c3b1de55'), 'quantity': 4, 'order_date': datetime.datetime(2023, 5, 16, 15, 17, 34), 'total_amount': Decimal('77.17')}\n",
      "{'order_id': UUID('b3098eb6-d509-4406-9a20-86c2e13d4024'), 'customer_id': UUID('2c1ab3dc-fa7d-4a29-ac59-d1c696740e64'), 'product_id': UUID('3892df2f-6067-43f8-a526-7f9303bf1e1e'), 'quantity': 4, 'order_date': datetime.datetime(2023, 3, 5, 14, 16, 44), 'total_amount': Decimal('212.63')}\n",
      "{'order_id': UUID('832de2e7-5da9-47e3-992f-5d583d93fb04'), 'customer_id': UUID('1bcf512b-274c-4520-96f6-3fa27b6691b3'), 'product_id': UUID('db53d06a-d2a5-4b42-bde2-593b6425a73e'), 'quantity': 2, 'order_date': datetime.datetime(2023, 8, 20, 1, 42, 36), 'total_amount': Decimal('389.12')}\n",
      "{'order_id': UUID('04af8e73-fee7-49ca-b78b-9ca1b4909249'), 'customer_id': UUID('5f92a0ee-0e2c-4882-a6f4-dc13c7d60e6d'), 'product_id': UUID('8597eab4-64e2-436d-852b-def6fcf8fffc'), 'quantity': 1, 'order_date': datetime.datetime(2023, 1, 2, 7, 58, 51), 'total_amount': Decimal('26.19')}\n",
      "{'order_id': UUID('93cbed3b-3780-462c-958e-0316fa9a941c'), 'customer_id': UUID('c93334c1-e7ac-4ad5-9157-99a112d6d3da'), 'product_id': UUID('81287271-4d28-40d5-ad67-43f96e218440'), 'quantity': 9, 'order_date': datetime.datetime(2023, 10, 21, 17, 32, 36), 'total_amount': Decimal('269.59')}\n",
      "{'order_id': UUID('e799e2af-8472-4aff-ab10-80ef88a743eb'), 'customer_id': UUID('7d762c30-c065-4c55-9ab0-c4557b1f2a50'), 'product_id': UUID('e64520f0-133c-47a1-a3ee-7c6ec772d1ef'), 'quantity': 4, 'order_date': datetime.datetime(2023, 2, 20, 21, 35, 40), 'total_amount': Decimal('312.90')}\n",
      "{'order_id': UUID('f71a256a-a2c2-4961-8679-da9aec2c4d77'), 'customer_id': UUID('650eee80-8657-481c-b89e-aabaf115f14e'), 'product_id': UUID('6f3388e4-93d7-43b7-ae17-c00a603a109f'), 'quantity': 10, 'order_date': datetime.datetime(2023, 8, 24, 17, 25, 51), 'total_amount': Decimal('298.35')}\n",
      "{'order_id': UUID('4cf94648-ee10-4eae-92ad-2bd06b625720'), 'customer_id': UUID('de98f1a8-4a6d-460b-9dd0-755102a8fb0a'), 'product_id': UUID('aa7ee3f3-457b-4614-b6a4-3de5768c7fe2'), 'quantity': 8, 'order_date': datetime.datetime(2023, 7, 31, 12, 25, 49), 'total_amount': Decimal('385.91')}\n",
      "{'order_id': UUID('e287ef4e-fa5e-4a33-a409-ab5f53f199bc'), 'customer_id': UUID('4ed91dea-67a5-41ce-bdbf-7e97526ef6e0'), 'product_id': UUID('6e7e56f3-884b-486f-83a0-0d6b243218a5'), 'quantity': 2, 'order_date': datetime.datetime(2023, 8, 30, 23, 49, 50), 'total_amount': Decimal('183.00')}\n",
      "{'order_id': UUID('56e8cacc-9267-47b0-a846-272f2da411f6'), 'customer_id': UUID('822e6296-f716-4470-8ed5-bf74cbf14ae8'), 'product_id': UUID('e9e3c61c-d6f8-4bdc-85f9-a247a99928ff'), 'quantity': 10, 'order_date': datetime.datetime(2023, 11, 13, 6, 6, 43), 'total_amount': Decimal('64.95')}\n",
      "{'order_id': UUID('b8e48237-2a56-4dfa-a265-422335007482'), 'customer_id': UUID('9a8797c3-3e59-4a23-a2ce-852b750bb854'), 'product_id': UUID('a66480f1-51e9-407c-9816-24a1c1a75756'), 'quantity': 4, 'order_date': datetime.datetime(2023, 3, 16, 16, 47, 37), 'total_amount': Decimal('141.04')}\n",
      "{'order_id': UUID('e944fbab-5ae1-4d83-a2fb-412f566f3af1'), 'customer_id': UUID('33e53899-5381-4047-910c-4cf38fe22d60'), 'product_id': UUID('cb5e81d1-f092-47e4-8aa4-c97ee208abef'), 'quantity': 4, 'order_date': datetime.datetime(2023, 12, 29, 13, 7, 52), 'total_amount': Decimal('482.59')}\n",
      "{'order_id': UUID('5f370c79-7ea8-4332-ae7f-98e101e2ba4f'), 'customer_id': UUID('a53c1b08-129c-446a-a52b-43216663329e'), 'product_id': UUID('45343d12-f9b6-4afd-a00b-c8ae2c833e31'), 'quantity': 8, 'order_date': datetime.datetime(2023, 12, 4, 18, 18, 50), 'total_amount': Decimal('185.82')}\n",
      "{'order_id': UUID('99d4f666-6582-4794-9e15-6ae58ea67097'), 'customer_id': UUID('9fb08361-d1c1-46bb-995b-3e6654b33992'), 'product_id': UUID('75884ca9-ec94-4c06-93cf-2a5b29e2f45c'), 'quantity': 3, 'order_date': datetime.datetime(2023, 4, 26, 5, 24, 45), 'total_amount': Decimal('415.30')}\n",
      "{'order_id': UUID('454372a3-0f06-4823-876b-8b65a2184383'), 'customer_id': UUID('da9eb788-944d-45d9-bb07-a911c3ea19d3'), 'product_id': UUID('2c66bb72-2e56-49ad-9d8f-28c3eba826a6'), 'quantity': 2, 'order_date': datetime.datetime(2023, 11, 23, 11, 20, 48), 'total_amount': Decimal('348.20')}\n",
      "{'order_id': UUID('28a18234-5157-40af-9e53-4ce106e7ab6a'), 'customer_id': UUID('7ef203a2-f352-45d6-b3fb-c9cccb5a2341'), 'product_id': UUID('678e6ed2-e305-4ee4-9939-077f8917dc83'), 'quantity': 3, 'order_date': datetime.datetime(2023, 5, 7, 1, 2, 52), 'total_amount': Decimal('317.02')}\n",
      "{'order_id': UUID('81e78942-551a-41be-862c-fe9e1362ff82'), 'customer_id': UUID('3453c3dd-0f82-4913-bb10-ff17c6ed63bc'), 'product_id': UUID('9c04c236-4785-4568-a104-289c74620982'), 'quantity': 8, 'order_date': datetime.datetime(2023, 1, 16, 23, 16, 4), 'total_amount': Decimal('137.53')}\n",
      "{'order_id': UUID('9f4ab28b-7411-4a09-a189-1202a81d0775'), 'customer_id': UUID('a64ff072-3bbe-427e-86ab-2a23340cc5db'), 'product_id': UUID('7b852c4a-9bd7-4e18-888f-4f7789fae5bc'), 'quantity': 5, 'order_date': datetime.datetime(2023, 3, 17, 22, 57, 43), 'total_amount': Decimal('412.85')}\n",
      "{'order_id': UUID('7e1a73b6-8af4-4670-a79c-d6fbb452f0a3'), 'customer_id': UUID('7702590f-2ffb-40ae-b14a-3035ca5c7e0b'), 'product_id': UUID('fc6303ee-ea95-411b-be13-f3b0ed6795c3'), 'quantity': 9, 'order_date': datetime.datetime(2023, 1, 16, 14, 22, 42), 'total_amount': Decimal('401.53')}\n",
      "{'order_id': UUID('30236d18-c881-4ca6-babd-3d69f1c984ea'), 'customer_id': UUID('44f67d8e-9108-4cd3-8352-bd57840ce6e1'), 'product_id': UUID('3c9e6d8c-03f6-411a-b3ce-a9979d2ac341'), 'quantity': 10, 'order_date': datetime.datetime(2023, 6, 3, 20, 27, 46), 'total_amount': Decimal('100.15')}\n",
      "{'order_id': UUID('08bd95fe-1963-4cb6-b9cf-1dbe4555ca83'), 'customer_id': UUID('bd0921c5-014b-4094-bfc3-753054dc52a3'), 'product_id': UUID('8df40bb4-ce21-40f6-8e34-b0a60c0bccdb'), 'quantity': 5, 'order_date': datetime.datetime(2023, 1, 27, 8, 25, 44), 'total_amount': Decimal('220.42')}\n",
      "{'order_id': UUID('6adf07bd-572b-422f-bd6f-5726ca0f5092'), 'customer_id': UUID('99cf9f04-d8a7-41a7-b2df-f7ded9a564e9'), 'product_id': UUID('60c233fd-8d75-4cf3-89b6-8d459191b5d5'), 'quantity': 2, 'order_date': datetime.datetime(2023, 3, 16, 12, 15, 59), 'total_amount': Decimal('117.26')}\n",
      "{'order_id': UUID('97b345dc-b92d-40a7-a5d0-2fa8e05f75ae'), 'customer_id': UUID('9a2c30a7-756c-486e-a444-f6355e426ee8'), 'product_id': UUID('540baa8d-1dd3-4571-aa96-d7a2b58e89e8'), 'quantity': 5, 'order_date': datetime.datetime(2023, 11, 12, 22, 11, 42), 'total_amount': Decimal('174.82')}\n",
      "{'order_id': UUID('ec290601-e7e3-47da-88b2-33986725f044'), 'customer_id': UUID('aaab589e-c04a-4796-a683-2f845dd87b77'), 'product_id': UUID('a25f55ca-cc34-42d6-b050-207043cda60e'), 'quantity': 6, 'order_date': datetime.datetime(2023, 10, 29, 21, 26, 14), 'total_amount': Decimal('278.91')}\n",
      "{'order_id': UUID('e44ec98d-fb5b-4d2b-8aa2-4eb37ec623b0'), 'customer_id': UUID('862b2330-0b4f-4166-b999-3bdafcb73659'), 'product_id': UUID('b6b2557f-c518-4cb3-89bc-eb3144339ea1'), 'quantity': 4, 'order_date': datetime.datetime(2023, 8, 31, 20, 49), 'total_amount': Decimal('186.11')}\n",
      "{'order_id': UUID('88447e9c-32fd-45e6-9040-43c7674882ed'), 'customer_id': UUID('44e13be4-ae90-4224-bdb6-d1db5633074f'), 'product_id': UUID('b65b540b-c912-4368-ade0-49cda1d1d696'), 'quantity': 4, 'order_date': datetime.datetime(2023, 5, 16, 20, 7, 32), 'total_amount': Decimal('79.97')}\n",
      "{'order_id': UUID('810f5271-4b70-4c25-b58c-e754980fb3a3'), 'customer_id': UUID('7d150c4b-1fab-4d41-863b-48cbb49eae81'), 'product_id': UUID('eff40ff4-64a9-4dfe-9828-8547ba8f7401'), 'quantity': 3, 'order_date': datetime.datetime(2023, 9, 16, 6, 3, 22), 'total_amount': Decimal('269.16')}\n",
      "{'order_id': UUID('6d488efc-d297-4fda-94aa-0c0088d2eaa3'), 'customer_id': UUID('61a2483a-57e7-479c-a60f-0a5d1329ba9c'), 'product_id': UUID('2d66176a-260f-4349-b13a-a8ec563ff274'), 'quantity': 3, 'order_date': datetime.datetime(2023, 3, 14, 21, 29, 40), 'total_amount': Decimal('139.26')}\n",
      "{'order_id': UUID('47968b84-b73a-4de0-b20c-36595e8eb03a'), 'customer_id': UUID('becd3c2e-0fcf-42f7-831f-00881f8b5a5f'), 'product_id': UUID('f809679d-cfbf-4510-b5e3-aa0fa0dec84c'), 'quantity': 8, 'order_date': datetime.datetime(2023, 3, 11, 23, 12, 30), 'total_amount': Decimal('235.31')}\n",
      "{'order_id': UUID('fcfa5441-fc3f-4473-b149-4408c3da7c21'), 'customer_id': UUID('62914b6f-a5ff-4fd1-b6ff-cf1c66034fba'), 'product_id': UUID('c8951ad7-d4a0-41e2-bc31-e147e6be068b'), 'quantity': 8, 'order_date': datetime.datetime(2023, 8, 24, 15, 14, 55), 'total_amount': Decimal('285.78')}\n",
      "{'order_id': UUID('36d422ac-a4c8-4a2e-b763-9c14bffff50a'), 'customer_id': UUID('3083de1b-3906-4145-ac16-77a24bae0fe6'), 'product_id': UUID('8d6c6a22-e42c-41d2-8ef7-ec1ea49eff8c'), 'quantity': 9, 'order_date': datetime.datetime(2023, 6, 10, 7, 12, 14), 'total_amount': Decimal('84.11')}\n",
      "{'order_id': UUID('afe7c91e-19a1-44bb-872f-f0451043f303'), 'customer_id': UUID('356295a1-21a2-4915-9b26-52b47aaf790c'), 'product_id': UUID('6212e0b0-866b-45cb-ab73-1369d9733156'), 'quantity': 8, 'order_date': datetime.datetime(2023, 10, 13, 9, 18, 40), 'total_amount': Decimal('292.16')}\n",
      "{'order_id': UUID('6cc3c07f-a626-4270-a357-ece2096dd257'), 'customer_id': UUID('caea7623-e6c7-4340-8230-44b32a8da7d8'), 'product_id': UUID('1ed7ab07-3c32-4506-b02a-bd5fb362a246'), 'quantity': 3, 'order_date': datetime.datetime(2024, 5, 31, 17, 25, 3, 21000), 'total_amount': Decimal('150.75')}\n",
      "{'order_id': UUID('7786c194-c1dd-47a8-a7f7-4dab1ffc410f'), 'customer_id': UUID('222fa26a-e5df-4176-a97a-932e48e03024'), 'product_id': UUID('e78597c3-61c4-4418-935e-e0296d1a4ac2'), 'quantity': 2, 'order_date': datetime.datetime(2023, 1, 9, 9, 45, 28), 'total_amount': Decimal('113.87')}\n",
      "{'order_id': UUID('4d28203e-809a-4e95-867f-27a3ea1ae3ed'), 'customer_id': UUID('a509be73-acc5-4bf1-8885-7e6a4492330c'), 'product_id': UUID('09bedfad-d9ea-4eb5-a29e-e9a0c4567aca'), 'quantity': 9, 'order_date': datetime.datetime(2023, 2, 1, 8, 29, 26), 'total_amount': Decimal('353.91')}\n",
      "{'order_id': UUID('74af97a6-967e-4e26-a25c-f8e3fbd7434e'), 'customer_id': UUID('d114f4ec-a8c9-4ce7-aedf-6e65853c62b9'), 'product_id': UUID('2cce428c-2080-405b-9bcc-c8ea2fa82108'), 'quantity': 9, 'order_date': datetime.datetime(2023, 8, 4, 3, 31, 57), 'total_amount': Decimal('258.18')}\n",
      "{'order_id': UUID('387d34fc-136b-4cad-a77d-55cbd7f5b20f'), 'customer_id': UUID('b4d31ac1-1635-43d9-bccc-c6527881cf9c'), 'product_id': UUID('b7027aab-8d81-4987-95f3-797ba5b3c102'), 'quantity': 6, 'order_date': datetime.datetime(2023, 3, 19, 7, 12, 36), 'total_amount': Decimal('56.24')}\n",
      "{'order_id': UUID('ad353d1e-d0b8-407f-b1e5-1b3e5e619a0f'), 'customer_id': UUID('062357e0-2be8-40ee-af70-0b8cd5727a1b'), 'product_id': UUID('82232421-1f6a-417e-948f-d202cc1f6244'), 'quantity': 1, 'order_date': datetime.datetime(2023, 5, 12, 16, 55, 42), 'total_amount': Decimal('80.08')}\n",
      "{'order_id': UUID('e75294a2-4eee-4ab6-83df-5da50305d7e1'), 'customer_id': UUID('413371fb-9746-4643-a0f5-2f7e81f694ea'), 'product_id': UUID('88944dc0-1525-492e-befd-9fcd5dac5ca1'), 'quantity': 6, 'order_date': datetime.datetime(2023, 4, 21, 20, 20, 58), 'total_amount': Decimal('75.11')}\n",
      "{'order_id': UUID('d9f4948b-a9c4-4cac-94f9-d1d17ca7b120'), 'customer_id': UUID('47f5d5b7-bdb3-462d-bb8f-7460ff2e303c'), 'product_id': UUID('2a2654a6-8e04-4676-b538-15761c5b25b9'), 'quantity': 5, 'order_date': datetime.datetime(2023, 6, 21, 4, 16), 'total_amount': Decimal('72.25')}\n",
      "{'order_id': UUID('9289f52f-8900-4966-878a-080e81502c19'), 'customer_id': UUID('6e814530-9692-48e4-9e0c-546c27bdea23'), 'product_id': UUID('2dab533d-19b8-4618-a336-607c07a937cd'), 'quantity': 6, 'order_date': datetime.datetime(2023, 7, 18, 11, 43, 53), 'total_amount': Decimal('346.07')}\n",
      "{'order_id': UUID('28bc83bc-cc2a-4da7-a1a8-153037331ec3'), 'customer_id': UUID('9eccffe6-5afb-4258-b18d-b93f5ed0bc69'), 'product_id': UUID('f12e9363-6ab1-4bde-af6e-6cdd6def8d25'), 'quantity': 9, 'order_date': datetime.datetime(2023, 2, 27, 21, 49, 35), 'total_amount': Decimal('316.80')}\n",
      "{'order_id': UUID('d626e704-fde4-4773-9268-50e4f79bd9aa'), 'customer_id': UUID('01d8f865-3e5e-4192-b485-b5abe5e6e4fa'), 'product_id': UUID('85930b8a-bddc-445f-8124-4eefc39ac186'), 'quantity': 7, 'order_date': datetime.datetime(2023, 11, 5, 11, 46, 3), 'total_amount': Decimal('288.39')}\n",
      "{'order_id': UUID('441f54fb-46a5-41c4-9fa7-bb9dc08a3a04'), 'customer_id': UUID('948b6954-b431-47ec-9feb-046e83ff5112'), 'product_id': UUID('706de280-b458-413f-b595-0b30f324686a'), 'quantity': 9, 'order_date': datetime.datetime(2023, 10, 9, 8, 58, 3), 'total_amount': Decimal('433.80')}\n",
      "{'order_id': UUID('71a1bb6f-09fb-4d45-8d85-4ad1196c48ce'), 'customer_id': UUID('2a788640-c001-4833-8e00-261c4232846f'), 'product_id': UUID('b63eab0b-0af7-4a9a-9239-323723288cda'), 'quantity': 5, 'order_date': datetime.datetime(2023, 6, 27, 21, 4, 3), 'total_amount': Decimal('454.50')}\n",
      "{'order_id': UUID('e9896302-931d-4b1e-a0c7-9a343e5d630b'), 'customer_id': UUID('2192e509-2cb2-4f21-b398-162f2bac8bf8'), 'product_id': UUID('6d6a5cbd-0fe1-42bb-95ad-d661bfefb58f'), 'quantity': 3, 'order_date': datetime.datetime(2023, 2, 25, 19, 36, 51), 'total_amount': Decimal('251.75')}\n",
      "{'order_id': UUID('3c3acdcf-cf1b-42ef-941b-ca25aec77aa1'), 'customer_id': UUID('b02b4235-2ece-456b-a6c1-26e9911060ff'), 'product_id': UUID('9c424e0f-7abc-4451-a04e-b510d259f02d'), 'quantity': 9, 'order_date': datetime.datetime(2023, 10, 13, 19, 26, 56), 'total_amount': Decimal('33.70')}\n",
      "{'order_id': UUID('9e80e8c2-6f8f-43e3-8269-00f69ca6cdef'), 'customer_id': UUID('6755749e-250d-4d6c-97cd-957f3457662b'), 'product_id': UUID('9aec2215-ca1b-4397-9ec1-7192e65b1ecb'), 'quantity': 3, 'order_date': datetime.datetime(2023, 11, 9, 15, 27, 40), 'total_amount': Decimal('89.59')}\n",
      "{'order_id': UUID('9bb1adc2-302d-4965-9e4a-d029f41b7d75'), 'customer_id': UUID('ffb52cc0-1bb6-47bd-bd3f-a081a7abb958'), 'product_id': UUID('621726e9-171d-4a42-b4e0-d8dd7ddc887f'), 'quantity': 9, 'order_date': datetime.datetime(2023, 10, 30, 8, 26, 23), 'total_amount': Decimal('376.98')}\n",
      "{'order_id': UUID('604db2c1-8459-4a17-b3a8-a6fb889f8ba1'), 'customer_id': UUID('884ad4fe-bf9f-4baf-97bd-e48d96872f89'), 'product_id': UUID('0934d7ec-145a-46db-8014-eebf76b4925b'), 'quantity': 4, 'order_date': datetime.datetime(2023, 7, 3, 4, 52, 11), 'total_amount': Decimal('378.03')}\n",
      "{'order_id': UUID('0c5ae179-d9ce-40fa-b453-33529d77f57c'), 'customer_id': UUID('0453393e-6516-459c-ae3c-63e8b52e24e7'), 'product_id': UUID('bd829af1-da35-402d-b408-3852be63ba45'), 'quantity': 9, 'order_date': datetime.datetime(2023, 2, 25, 20, 12, 32), 'total_amount': Decimal('81.73')}\n",
      "{'order_id': UUID('148359fc-ca7b-4276-b381-19cdfb4aafbd'), 'customer_id': UUID('63cae7ae-155f-4314-b919-2801c3c5bd3c'), 'product_id': UUID('7526738a-b5ab-4076-977c-42ca31d44778'), 'quantity': 5, 'order_date': datetime.datetime(2023, 3, 20, 13, 56, 38), 'total_amount': Decimal('237.77')}\n",
      "{'order_id': UUID('e5894423-a114-4bba-bb9a-0eea24473df4'), 'customer_id': UUID('b213cb42-ee49-47db-b79c-a4a408f2aa6c'), 'product_id': UUID('6a344731-b783-442a-af08-8d706d34359e'), 'quantity': 8, 'order_date': datetime.datetime(2023, 1, 13, 21, 38, 19), 'total_amount': Decimal('50.77')}\n",
      "{'order_id': UUID('2ae6fa12-2e97-4a34-a0a9-494f5aaedf68'), 'customer_id': UUID('04a06954-d470-418b-81d2-8996b260c2ea'), 'product_id': UUID('edf4a120-2d7e-4166-a788-678667260742'), 'quantity': 6, 'order_date': datetime.datetime(2023, 12, 13, 23, 24, 15), 'total_amount': Decimal('262.39')}\n",
      "{'order_id': UUID('972ff742-5afd-4332-b361-93b20fa85941'), 'customer_id': UUID('81682670-8c1f-4bf7-bf0c-2c78a7bb7921'), 'product_id': UUID('b7e6356f-3223-4242-aeb3-655654513640'), 'quantity': 10, 'order_date': datetime.datetime(2023, 8, 25, 0, 51, 34), 'total_amount': Decimal('82.94')}\n",
      "{'order_id': UUID('f0684c59-c541-48fb-a98d-04cbf6f654e1'), 'customer_id': UUID('3e3cfad3-d96c-4acb-9199-0b8f00af2702'), 'product_id': UUID('0cfa9e2e-b952-44e0-a637-7178a6f0d60c'), 'quantity': 5, 'order_date': datetime.datetime(2023, 11, 16, 22, 13, 39), 'total_amount': Decimal('127.78')}\n",
      "{'order_id': UUID('cb27284c-a92e-4543-80e5-fe94ac0bd57e'), 'customer_id': UUID('4f639543-e1aa-4972-a510-50ac894bd0f4'), 'product_id': UUID('91d1a40f-7f19-4913-b2a4-a6f6965b1b79'), 'quantity': 1, 'order_date': datetime.datetime(2023, 8, 22, 2, 17, 28), 'total_amount': Decimal('387.07')}\n",
      "{'order_id': UUID('5147474b-3ffd-41c9-98c1-f2377df88405'), 'customer_id': UUID('ea92f05c-97d7-4be9-91c7-61b1eb8f8d29'), 'product_id': UUID('b2a6e42e-ee4c-413b-b9d7-2c743534a9f0'), 'quantity': 9, 'order_date': datetime.datetime(2023, 5, 10, 5, 15, 18), 'total_amount': Decimal('153.72')}\n",
      "{'order_id': UUID('61bbc8e8-e543-438c-ac5c-d1f3ff4fe431'), 'customer_id': UUID('cc3a39a0-bff0-47f1-8004-5b790fb7de86'), 'product_id': UUID('4b179cfc-fe31-4357-90a5-bd0824dc9959'), 'quantity': 1, 'order_date': datetime.datetime(2023, 9, 21, 13, 59, 38), 'total_amount': Decimal('76.15')}\n",
      "{'order_id': UUID('1a8666c0-bbf4-412e-b8eb-b84700afda8d'), 'customer_id': UUID('3ba4cb52-d33d-47c5-9ca2-475cfcc8e9db'), 'product_id': UUID('99b165bb-9c04-4c87-8331-6d65ec3894c4'), 'quantity': 8, 'order_date': datetime.datetime(2023, 2, 27, 4, 52, 18), 'total_amount': Decimal('222.82')}\n",
      "{'order_id': UUID('f613dd1d-3d62-449c-8ac4-7483a4585b2f'), 'customer_id': UUID('88614f80-3e89-4158-b740-e50a44795201'), 'product_id': UUID('79a6b411-8ff2-41b6-a0b0-7eafac516ff9'), 'quantity': 8, 'order_date': datetime.datetime(2023, 3, 18, 13, 30, 26), 'total_amount': Decimal('381.83')}\n",
      "{'order_id': UUID('75707100-54cb-4d90-906b-6afa48f99bd6'), 'customer_id': UUID('6d69dfdc-5049-4352-a72b-023f74a6f048'), 'product_id': UUID('2d114cfe-fd21-41e7-b974-e4ad29bcd810'), 'quantity': 10, 'order_date': datetime.datetime(2023, 2, 7, 4, 6, 40), 'total_amount': Decimal('393.98')}\n",
      "{'order_id': UUID('df844efc-921e-49f1-a321-09290d5b4cdb'), 'customer_id': UUID('8df15313-66f5-47c8-9072-d2233c66ea49'), 'product_id': UUID('c8da8ca6-b864-408a-b935-77018e390565'), 'quantity': 1, 'order_date': datetime.datetime(2023, 10, 22, 15, 22, 47), 'total_amount': Decimal('161.96')}\n",
      "{'order_id': UUID('2709693e-1526-440f-8e1c-94122e103bbe'), 'customer_id': UUID('cadb85c7-14cc-4d70-8229-4824ea5d2c0d'), 'product_id': UUID('d6031a9b-799f-40f1-a292-7defc1ca029c'), 'quantity': 6, 'order_date': datetime.datetime(2023, 12, 17, 13, 2, 29), 'total_amount': Decimal('274.87')}\n",
      "{'order_id': UUID('2045772e-733c-47a5-8a46-315fbabd2d27'), 'customer_id': UUID('69cdb2e0-925d-4bc8-ac8d-a496eac22255'), 'product_id': UUID('1ff8ccdc-c177-4b8c-b8cb-4f2f27aa568f'), 'quantity': 10, 'order_date': datetime.datetime(2023, 1, 17, 4, 25, 56), 'total_amount': Decimal('437.22')}\n",
      "{'order_id': UUID('afd9f47c-e2b0-49e9-8b60-b2e019a93c37'), 'customer_id': UUID('67012dcc-84a8-4e0a-8377-6538b671763c'), 'product_id': UUID('daa310d0-8ba8-4a75-8c59-d85ef8902539'), 'quantity': 6, 'order_date': datetime.datetime(2023, 8, 23, 0, 10, 47), 'total_amount': Decimal('107.00')}\n",
      "{'order_id': UUID('51180677-26b7-4b9f-898a-3f63011bfb70'), 'customer_id': UUID('22143efa-8e95-4d25-b7c1-704cd55fccd3'), 'product_id': UUID('147df12d-ceac-4dff-9ccf-baf10c01a007'), 'quantity': 7, 'order_date': datetime.datetime(2023, 9, 19, 9, 23, 45), 'total_amount': Decimal('274.65')}\n",
      "{'order_id': UUID('04b85cfb-7eba-468e-ab8d-e2792eac393b'), 'customer_id': UUID('aac30964-41e7-4a88-8f14-1f91898bb655'), 'product_id': UUID('046135be-6c20-4a89-9755-33947f0767d7'), 'quantity': 1, 'order_date': datetime.datetime(2023, 6, 26, 19, 37, 37), 'total_amount': Decimal('363.00')}\n",
      "{'order_id': UUID('1748d3a8-43df-41dd-a8d0-62ebd05287cb'), 'customer_id': UUID('bdf80164-c578-411b-874a-ea66b73a634b'), 'product_id': UUID('e63f0bfe-d29b-451f-8a54-1b8b004720f5'), 'quantity': 10, 'order_date': datetime.datetime(2023, 6, 18, 18, 28, 38), 'total_amount': Decimal('62.93')}\n",
      "{'order_id': UUID('148b739d-3a53-4c73-be23-e6d7a36acbd8'), 'customer_id': UUID('b4468b79-04b7-43a4-b1e8-5c3f7c999e57'), 'product_id': UUID('2a4f0051-c42c-4bad-94ed-6dac3002665e'), 'quantity': 7, 'order_date': datetime.datetime(2023, 8, 23, 18, 12, 2), 'total_amount': Decimal('344.71')}\n",
      "{'order_id': UUID('0f9094e4-7ae8-4ce0-897a-965f682a921a'), 'customer_id': UUID('5317d3b2-c948-47a5-bb26-cb8086730f46'), 'product_id': UUID('891d768f-1729-4aa2-937a-f466c8f4806d'), 'quantity': 3, 'order_date': datetime.datetime(2023, 2, 8, 10, 9, 39), 'total_amount': Decimal('381.82')}\n",
      "{'order_id': UUID('b06b8eaf-5dc0-42f5-8221-673593202035'), 'customer_id': UUID('8aab7575-0038-48ef-97fa-02fe83aa0068'), 'product_id': UUID('858b6197-5112-47e0-b7a2-16de143ee90f'), 'quantity': 2, 'order_date': datetime.datetime(2023, 7, 10, 4, 27, 9), 'total_amount': Decimal('239.66')}\n",
      "{'order_id': UUID('74ab01c9-eee8-4210-ad46-da75dd7fd635'), 'customer_id': UUID('2d74093e-8dd6-4ca2-8a26-900b86d1cf96'), 'product_id': UUID('3611231c-4fef-46b7-af8c-918ba3208df5'), 'quantity': 2, 'order_date': datetime.datetime(2023, 2, 9, 16, 54, 26), 'total_amount': Decimal('120.24')}\n",
      "{'order_id': UUID('92c84cdc-cc8a-4de6-8090-a946eb821eab'), 'customer_id': UUID('ddb7e97e-23a1-431b-8b50-2ea46dca62d5'), 'product_id': UUID('05cf7f04-746e-4115-8565-3b5926977908'), 'quantity': 9, 'order_date': datetime.datetime(2023, 11, 21, 13, 45, 26), 'total_amount': Decimal('73.37')}\n",
      "{'order_id': UUID('51ced6d9-02a9-42f5-93f1-d908b8012147'), 'customer_id': UUID('a507b6ad-ce2a-44fa-a775-c3d4cfe10d8c'), 'product_id': UUID('6a88ce32-755a-4f17-9eff-434ac790fb71'), 'quantity': 3, 'order_date': datetime.datetime(2023, 6, 25, 19, 41, 32), 'total_amount': Decimal('60.88')}\n",
      "{'order_id': UUID('cab1eb5b-3beb-4f7f-b582-6fc3ddab07a1'), 'customer_id': UUID('67d0bd88-5e03-4ff9-b2c5-558feb9a0ab1'), 'product_id': UUID('99fead8d-7345-490d-8cd4-7756645fe898'), 'quantity': 7, 'order_date': datetime.datetime(2023, 2, 22, 22, 51, 34), 'total_amount': Decimal('370.33')}\n",
      "{'order_id': UUID('009cadc2-2549-4c9a-9b28-51f96b5f088c'), 'customer_id': UUID('4e58e424-a062-472e-96be-911168cbd26e'), 'product_id': UUID('603e4642-ed7f-4528-975f-c889cb8210eb'), 'quantity': 7, 'order_date': datetime.datetime(2023, 2, 14, 13, 15, 24), 'total_amount': Decimal('234.69')}\n",
      "{'order_id': UUID('f579fdb1-3347-43c1-8cfc-8beab17d3c0f'), 'customer_id': UUID('6b7d6676-f383-46c4-9092-6362b07f20c6'), 'product_id': UUID('4f3a717c-9a90-4e0b-a805-9298ac223d4a'), 'quantity': 5, 'order_date': datetime.datetime(2023, 6, 28, 6, 27, 18), 'total_amount': Decimal('60.76')}\n",
      "{'order_id': UUID('697a6f66-deab-4492-8803-c4c5351e7dfd'), 'customer_id': UUID('d115962f-0a0f-4c4b-9074-1f523e82a165'), 'product_id': UUID('ed123bf6-876b-433d-968e-17fc220ec774'), 'quantity': 4, 'order_date': datetime.datetime(2023, 6, 15, 22, 44, 46), 'total_amount': Decimal('119.30')}\n",
      "{'order_id': UUID('b835da6f-44f6-4c9c-85af-aa49e38b7116'), 'customer_id': UUID('9cc9b2e1-c225-489b-8967-76caaed45eb3'), 'product_id': UUID('dac737ca-c15d-4175-a950-7bc355d60aec'), 'quantity': 10, 'order_date': datetime.datetime(2023, 11, 22, 10, 27, 56), 'total_amount': Decimal('218.53')}\n",
      "{'order_id': UUID('53ac1648-161c-49c0-a865-12f05993aa72'), 'customer_id': UUID('3b06a588-378e-44f1-9f65-b80e73b0815c'), 'product_id': UUID('bcf164d9-911a-446b-8c6c-64fc9bc48803'), 'quantity': 1, 'order_date': datetime.datetime(2023, 1, 1, 5, 42, 42), 'total_amount': Decimal('440.99')}\n",
      "{'order_id': UUID('0c5417c7-ff1c-4cf5-bc20-facb9e20cddb'), 'customer_id': UUID('7d11a5c6-b612-4bfb-b518-799f0bf3cd38'), 'product_id': UUID('df045bfc-e6c0-4c2a-994a-43b1b4789052'), 'quantity': 9, 'order_date': datetime.datetime(2023, 9, 19, 2, 51, 7), 'total_amount': Decimal('493.45')}\n",
      "{'order_id': UUID('0a641a98-5442-48de-b646-52a311cc39da'), 'customer_id': UUID('409e018c-a7d6-47fb-8d82-9aaf00a90dce'), 'product_id': UUID('c4517722-8153-4777-a4e5-2ddd3b323f6c'), 'quantity': 10, 'order_date': datetime.datetime(2023, 5, 3, 5, 58, 2), 'total_amount': Decimal('97.08')}\n",
      "{'order_id': UUID('728c0c2a-d8b8-4675-8371-bf602ad873b5'), 'customer_id': UUID('486901d1-9ba0-4e66-999c-f9fdd68539bc'), 'product_id': UUID('754c8d69-3b4d-4497-bf4b-b2d841e47918'), 'quantity': 2, 'order_date': datetime.datetime(2023, 5, 19, 15, 34, 2), 'total_amount': Decimal('87.67')}\n",
      "{'order_id': UUID('64bf6018-1403-432d-9243-f28f62c75831'), 'customer_id': UUID('5b6c6fb9-aa86-4fef-b99a-eca935a97be9'), 'product_id': UUID('4672232a-175e-4371-80a9-3b8781553706'), 'quantity': 6, 'order_date': datetime.datetime(2023, 3, 10, 10, 18, 28), 'total_amount': Decimal('200.12')}\n",
      "{'order_id': UUID('09b0a5b7-4fbc-4c1c-801b-a1c527576224'), 'customer_id': UUID('725c4c7c-6593-46b7-b0ae-61bf4cd29640'), 'product_id': UUID('961b8436-0e61-4511-bff3-7e6548827bfd'), 'quantity': 3, 'order_date': datetime.datetime(2023, 11, 24, 13, 25, 47), 'total_amount': Decimal('102.48')}\n",
      "{'order_id': UUID('ea831546-39ae-447f-b771-40f47178ac7b'), 'customer_id': UUID('627a19f4-0e52-4860-bde5-153a70ddc218'), 'product_id': UUID('a80e282c-beeb-4286-916d-2a8b0b6e569a'), 'quantity': 3, 'order_date': datetime.datetime(2023, 11, 10, 9, 3, 14), 'total_amount': Decimal('222.49')}\n",
      "{'order_id': UUID('2f4ad5a9-806e-4e57-9236-fe88fcd261c3'), 'customer_id': UUID('c50ebb89-4a40-4e15-8890-6fe04d23fa41'), 'product_id': UUID('326dbe60-0293-468e-925d-6829f373f81e'), 'quantity': 2, 'order_date': datetime.datetime(2023, 6, 4, 19, 0, 18), 'total_amount': Decimal('495.61')}\n",
      "{'order_id': UUID('2263a0d5-84fe-4480-8809-5df84279b50e'), 'customer_id': UUID('e0d29880-c260-459f-a3d7-c775b9d4c490'), 'product_id': UUID('ac53462d-4814-4221-9c53-b6616efacdf0'), 'quantity': 1, 'order_date': datetime.datetime(2023, 1, 19, 18, 13, 33), 'total_amount': Decimal('254.94')}\n",
      "{'order_id': UUID('5cb068b1-ea8b-444a-add9-faba2bf4c310'), 'customer_id': UUID('fa4893ff-97d6-4882-a4dd-8e42fcbe717e'), 'product_id': UUID('f098dfce-9d71-462f-abad-ca8a2fb733ad'), 'quantity': 7, 'order_date': datetime.datetime(2023, 4, 16, 9, 43, 35), 'total_amount': Decimal('317.25')}\n",
      "{'order_id': UUID('060557b6-37c6-4d61-a3b5-8c874e2d4d27'), 'customer_id': UUID('686235cc-52bd-45ba-98e4-6c0f3b1d0036'), 'product_id': UUID('e64881c0-f005-4d16-bed5-5e70422ee57b'), 'quantity': 8, 'order_date': datetime.datetime(2023, 8, 12, 17, 43, 43), 'total_amount': Decimal('369.88')}\n",
      "{'order_id': UUID('3ea5cf57-8657-4360-a101-91e8553cf7f4'), 'customer_id': UUID('e93124d0-e6d8-46aa-834f-b11a3a947622'), 'product_id': UUID('f1810161-85c5-42e1-aeca-d1b5b7459e6b'), 'quantity': 3, 'order_date': datetime.datetime(2023, 9, 22, 9, 16, 41), 'total_amount': Decimal('283.22')}\n",
      "{'order_id': UUID('3ea0c6bc-9c83-4236-b073-610871a82df7'), 'customer_id': UUID('5777ee73-67fc-4d39-810d-ee216dce9c1d'), 'product_id': UUID('fd7df528-0ba5-4e16-89d7-c5a46e372865'), 'quantity': 8, 'order_date': datetime.datetime(2023, 1, 30, 12, 16, 55), 'total_amount': Decimal('208.79')}\n",
      "{'order_id': UUID('8a3a7a15-c184-407b-8b98-44e21c5c7148'), 'customer_id': UUID('72f631ea-e807-43e4-875e-61d239ce0527'), 'product_id': UUID('528774f2-0a48-46eb-837c-b4eb09cea4fb'), 'quantity': 6, 'order_date': datetime.datetime(2023, 9, 21, 9, 8, 35), 'total_amount': Decimal('193.36')}\n",
      "{'order_id': UUID('7c912bfb-1801-47b3-b6d4-e2076e67c6ca'), 'customer_id': UUID('0d30697b-23cd-4e5e-837f-448e76725a60'), 'product_id': UUID('e8d6e525-43d1-4659-aa1e-9f2db6a539a9'), 'quantity': 5, 'order_date': datetime.datetime(2023, 3, 28, 19, 47, 24), 'total_amount': Decimal('187.71')}\n",
      "{'order_id': UUID('1d23a0e7-b570-4e31-bb04-b5f9335d4241'), 'customer_id': UUID('04200375-0951-44e6-a2c0-8201210ffbe3'), 'product_id': UUID('e782c970-dbc5-4733-b2da-3c6a34d5486d'), 'quantity': 2, 'order_date': datetime.datetime(2023, 2, 22, 10, 7, 6), 'total_amount': Decimal('114.78')}\n",
      "{'order_id': UUID('0da14634-cdb0-496d-bfbc-1bfd5fd541ce'), 'customer_id': UUID('ca584131-4d80-4392-88b8-99b354c16688'), 'product_id': UUID('bc2560a1-194a-4be9-9f17-b0386b57f388'), 'quantity': 3, 'order_date': datetime.datetime(2023, 7, 17, 12, 22, 8), 'total_amount': Decimal('302.65')}\n",
      "{'order_id': UUID('2e29bfa6-7f8f-4630-8cf5-c60c616e9d25'), 'customer_id': UUID('10f17b73-8b03-4a59-8e1b-bc0c50fef035'), 'product_id': UUID('ef111820-b88f-43e5-9e5b-9dabe991d54b'), 'quantity': 5, 'order_date': datetime.datetime(2023, 11, 25, 20, 1, 36), 'total_amount': Decimal('328.88')}\n",
      "{'order_id': UUID('008019ee-8219-4def-9f31-4b9fa0a552fc'), 'customer_id': UUID('6a8c653c-cc21-434e-9723-7779102ba3b4'), 'product_id': UUID('d435a707-dae0-4861-9f37-63a58bd89826'), 'quantity': 2, 'order_date': datetime.datetime(2023, 9, 9, 19, 46, 35), 'total_amount': Decimal('467.86')}\n",
      "{'order_id': UUID('5574ca2b-7f5b-48c2-8784-2abc40afc3cb'), 'customer_id': UUID('c6451330-c589-4909-92b5-8475f92d1b14'), 'product_id': UUID('9de2c1be-89e3-43c7-889d-fc7a8540cb05'), 'quantity': 7, 'order_date': datetime.datetime(2023, 6, 9, 13, 6, 17), 'total_amount': Decimal('256.10')}\n",
      "{'order_id': UUID('4d0bea41-878f-445f-9930-0857656b4b86'), 'customer_id': UUID('60e897dd-7038-43ec-8836-c8cd9f37400d'), 'product_id': UUID('087f1027-d555-4ee9-b1b8-60c8186c1d78'), 'quantity': 4, 'order_date': datetime.datetime(2023, 2, 23, 2, 57, 18), 'total_amount': Decimal('397.89')}\n",
      "{'order_id': UUID('296e687d-8638-4ef2-9652-0b1f3232357f'), 'customer_id': UUID('507e2b43-85d8-440b-9e38-fc59f2a868e8'), 'product_id': UUID('a2b2daab-d4e2-4667-b992-83b7ca15e951'), 'quantity': 3, 'order_date': datetime.datetime(2023, 9, 11, 9, 16, 42), 'total_amount': Decimal('131.00')}\n",
      "{'order_id': UUID('7649acb0-eabd-446f-bebe-23716a8a1ea2'), 'customer_id': UUID('d9529fce-46ed-4a24-a879-b89556720689'), 'product_id': UUID('93b603ee-6f51-4ee9-b476-360daf389817'), 'quantity': 10, 'order_date': datetime.datetime(2023, 8, 28, 22, 33, 43), 'total_amount': Decimal('492.77')}\n",
      "{'order_id': UUID('963a4ef0-e2b7-43da-9387-63bf21107e0b'), 'customer_id': UUID('1c4d25ac-a3f1-4374-a7ee-a801faed2168'), 'product_id': UUID('bd3c9d6e-c62a-42f5-ae60-3b84a279d1ba'), 'quantity': 6, 'order_date': datetime.datetime(2023, 3, 23, 14, 2, 53), 'total_amount': Decimal('449.75')}\n",
      "{'order_id': UUID('f9d55e1b-976f-4fef-98a8-7684158fbd66'), 'customer_id': UUID('a959d679-aae4-4a75-80e1-f9fb322ad747'), 'product_id': UUID('854e7e8d-05dd-47c5-ab5a-f509d83fd54d'), 'quantity': 4, 'order_date': datetime.datetime(2023, 6, 6, 9, 56, 5), 'total_amount': Decimal('461.73')}\n",
      "{'order_id': UUID('65a2a6e6-aa4b-4fb0-afe1-284a4de4f96d'), 'customer_id': UUID('74128c53-46fa-4508-8de6-68fe1d0fcd70'), 'product_id': UUID('a1a2ceb5-2dac-4be0-8750-256662a20d41'), 'quantity': 8, 'order_date': datetime.datetime(2023, 9, 26, 11, 1, 59), 'total_amount': Decimal('182.06')}\n",
      "{'order_id': UUID('ed6c9cc1-c82b-4882-9b7a-e79af2bc404d'), 'customer_id': UUID('843b790e-026e-4ca7-a13c-e5686f058c3c'), 'product_id': UUID('01ce7319-94d2-427d-99de-afeae4ec9b43'), 'quantity': 10, 'order_date': datetime.datetime(2023, 10, 26, 21, 6, 53), 'total_amount': Decimal('309.12')}\n",
      "{'order_id': UUID('729c018c-1242-48f5-97b7-608eccb4f37a'), 'customer_id': UUID('c7010efe-c8bd-444a-b43d-425cc0f6470c'), 'product_id': UUID('d11a3f66-5c06-46f5-bbfd-dfdd3fd88569'), 'quantity': 5, 'order_date': datetime.datetime(2023, 8, 17, 3, 46, 42), 'total_amount': Decimal('24.30')}\n",
      "{'order_id': UUID('41651e77-8f5c-412b-8f0c-17466a1272e0'), 'customer_id': UUID('b129b74e-a65c-49b6-8ab1-cf8df43000c9'), 'product_id': UUID('1fa8878c-5506-47d1-afad-4e98f59e3931'), 'quantity': 5, 'order_date': datetime.datetime(2023, 4, 28, 21, 27, 13), 'total_amount': Decimal('152.61')}\n",
      "{'order_id': UUID('d1da2dbf-eedd-4202-b52c-87bb3137fe1c'), 'customer_id': UUID('adf99073-170d-4070-80bd-88906dc8b97f'), 'product_id': UUID('c76afde8-1428-4a6f-8a60-93f3dac02a82'), 'quantity': 3, 'order_date': datetime.datetime(2023, 11, 12, 23, 24, 41), 'total_amount': Decimal('176.08')}\n",
      "{'order_id': UUID('84910c06-938f-4def-9082-e20d263319ee'), 'customer_id': UUID('c70eff5e-5495-4d80-bc5f-aa59bff1a23c'), 'product_id': UUID('257053de-b6e4-4467-9460-bdf02b49fbfd'), 'quantity': 9, 'order_date': datetime.datetime(2023, 2, 9, 14, 16, 26), 'total_amount': Decimal('261.87')}\n",
      "{'order_id': UUID('f009f5b0-90ee-427f-99ad-71eff9408d45'), 'customer_id': UUID('8847ebfa-db3a-457e-ae34-b95aa0d9919e'), 'product_id': UUID('db4b314b-6bdc-411e-9958-e2b24eedc623'), 'quantity': 10, 'order_date': datetime.datetime(2023, 11, 23, 13, 23, 5), 'total_amount': Decimal('258.63')}\n",
      "{'order_id': UUID('9341c55a-6830-44af-8116-9b2722637c70'), 'customer_id': UUID('2022b542-697f-42d5-87ce-9b5c4e76587f'), 'product_id': UUID('01037043-1c93-4ca7-9812-6f4daa5dfdbb'), 'quantity': 5, 'order_date': datetime.datetime(2023, 5, 10, 6, 31, 27), 'total_amount': Decimal('430.73')}\n",
      "{'order_id': UUID('6643a54a-f8fc-43d5-ada2-f4525e8eb92d'), 'customer_id': UUID('385940d1-2b06-42a7-8746-2d06c1b3fc4f'), 'product_id': UUID('3ffcdcd9-bb64-4555-a728-b68891a8027e'), 'quantity': 2, 'order_date': datetime.datetime(2023, 3, 8, 23, 14, 10), 'total_amount': Decimal('465.57')}\n",
      "{'order_id': UUID('54082ce1-d81d-4420-acfc-427177cae2dc'), 'customer_id': UUID('588985fe-e909-41ba-b1f1-813389781015'), 'product_id': UUID('8827a31b-d360-4b64-82c1-40f5ab62cdc4'), 'quantity': 9, 'order_date': datetime.datetime(2023, 6, 28, 7, 31, 40), 'total_amount': Decimal('91.11')}\n",
      "{'order_id': UUID('d3d90874-53d1-4dfb-8d75-bc33d5fc9477'), 'customer_id': UUID('5eaf9c6e-9f69-48d7-927d-7590373fdc2c'), 'product_id': UUID('2cf10863-e545-4a20-bca0-2caca8e5b3fb'), 'quantity': 5, 'order_date': datetime.datetime(2023, 10, 1, 17, 27, 22), 'total_amount': Decimal('147.83')}\n",
      "{'order_id': UUID('e5ad0707-434d-46f7-b3b1-8d93ce2fe9b7'), 'customer_id': UUID('5cff056d-1bde-4f0e-8aae-94e89d34f1c4'), 'product_id': UUID('98d1d0d2-e7c1-40a6-997a-be5000695f7b'), 'quantity': 4, 'order_date': datetime.datetime(2023, 6, 19, 5, 12, 29), 'total_amount': Decimal('353.42')}\n",
      "{'order_id': UUID('eb10206a-d537-4172-a48a-c312dee618b1'), 'customer_id': UUID('7c7a6e71-fbe5-420f-81c1-a56e4f8f4e5a'), 'product_id': UUID('c41966a8-6bec-4b99-a59c-845ab1b0dd5f'), 'quantity': 7, 'order_date': datetime.datetime(2023, 11, 9, 16, 1, 51), 'total_amount': Decimal('230.07')}\n",
      "{'order_id': UUID('9bb36b9e-fffa-4323-9373-e9ecf1274506'), 'customer_id': UUID('08cdf381-4169-4009-8912-a709e4cabf88'), 'product_id': UUID('666fc2c3-7d88-45b2-97ee-95b792636193'), 'quantity': 8, 'order_date': datetime.datetime(2023, 3, 15, 4, 10, 7), 'total_amount': Decimal('178.30')}\n",
      "{'order_id': UUID('007ccf5d-43e7-418c-9d8b-5446d9dc6cee'), 'customer_id': UUID('2ec7bab8-2005-4d47-a7e3-27af9bcdac1e'), 'product_id': UUID('2e61c4f9-a6ff-402f-8d8b-3607c654eacc'), 'quantity': 7, 'order_date': datetime.datetime(2023, 4, 12, 0, 48, 22), 'total_amount': Decimal('85.57')}\n",
      "{'order_id': UUID('49db52a7-316d-40bb-90a8-978e55b01ab0'), 'customer_id': UUID('c36c9caf-bb36-42a2-ad01-e62512d95bf8'), 'product_id': UUID('c080ec4d-8797-41c9-9d4b-9739ec3ca7d3'), 'quantity': 9, 'order_date': datetime.datetime(2023, 2, 21, 5, 15, 28), 'total_amount': Decimal('348.56')}\n",
      "{'order_id': UUID('ca4b5c03-3d5d-4b3f-890e-25c06ac0c7a9'), 'customer_id': UUID('035cdc73-8b83-4b92-8092-51e46f162089'), 'product_id': UUID('d46406dc-d046-4c02-a328-03825e1f46fa'), 'quantity': 6, 'order_date': datetime.datetime(2023, 4, 13, 10, 8, 43), 'total_amount': Decimal('151.10')}\n",
      "{'order_id': UUID('2dc8d812-0175-4ca9-92d5-2b51fdc26feb'), 'customer_id': UUID('1f408e88-af6f-48ee-8961-e3e6a83972a3'), 'product_id': UUID('25536781-08a2-41c4-a07e-d49aed0f08ac'), 'quantity': 8, 'order_date': datetime.datetime(2023, 3, 8, 10, 57, 57), 'total_amount': Decimal('433.73')}\n",
      "{'order_id': UUID('79a96a16-e4f1-490e-acf7-1f8e64c45776'), 'customer_id': UUID('4a3d0876-deaf-426d-9638-dcc09fec0162'), 'product_id': UUID('49bd0803-008f-4b23-a5c7-dcfa844d6d29'), 'quantity': 4, 'order_date': datetime.datetime(2023, 4, 27, 16, 17, 23), 'total_amount': Decimal('259.77')}\n",
      "{'order_id': UUID('a22a037b-895d-408d-86d4-5c7cfb5d4d1b'), 'customer_id': UUID('91e60771-dc4e-4662-8e79-fda8425f8ae2'), 'product_id': UUID('b982ec15-976c-47cc-9123-d00f7df2537e'), 'quantity': 8, 'order_date': datetime.datetime(2023, 3, 12, 23, 53, 21), 'total_amount': Decimal('299.58')}\n",
      "{'order_id': UUID('8de77ba7-ee75-41ad-b6b9-c0875e7b616b'), 'customer_id': UUID('e81a743c-ee31-4297-9ffa-a1217fe28a4e'), 'product_id': UUID('d5b3053b-c8fc-4d12-a612-a31ff56085fc'), 'quantity': 1, 'order_date': datetime.datetime(2023, 6, 26, 10, 34, 32), 'total_amount': Decimal('445.25')}\n",
      "{'order_id': UUID('7358d761-6a8d-4142-b0c7-3db018d4e150'), 'customer_id': UUID('d23342db-1400-4e17-a1e0-273754eb9375'), 'product_id': UUID('ad79bbc1-c4e5-4f90-9c24-0aea05f35a57'), 'quantity': 3, 'order_date': datetime.datetime(2023, 7, 13, 20, 43, 52), 'total_amount': Decimal('485.87')}\n",
      "{'order_id': UUID('f63dacc6-8390-4359-a662-eb319e53d871'), 'customer_id': UUID('8df877d2-bda1-4136-8010-dd00de3101ce'), 'product_id': UUID('10b16f4d-3465-4115-bd31-e3f1b2d34180'), 'quantity': 5, 'order_date': datetime.datetime(2023, 10, 10, 5, 10, 50), 'total_amount': Decimal('77.38')}\n",
      "{'order_id': UUID('7c78cebf-a51a-4d24-a021-9b3566209ee1'), 'customer_id': UUID('0b67a9a1-c710-41c7-85ba-a201d4c8960f'), 'product_id': UUID('dfa20e31-5012-4642-9d3a-0a29adf86baf'), 'quantity': 1, 'order_date': datetime.datetime(2023, 3, 17, 12, 57, 7), 'total_amount': Decimal('227.42')}\n",
      "{'order_id': UUID('0461f0cc-d3b2-4b80-8bb4-55bde4f90dbb'), 'customer_id': UUID('f89a5094-678d-4650-a9ac-3c71ab8ea19c'), 'product_id': UUID('f56a54ec-34a4-4e92-9e90-9a60b32896e1'), 'quantity': 6, 'order_date': datetime.datetime(2023, 8, 30, 12, 3, 21), 'total_amount': Decimal('385.54')}\n",
      "{'order_id': UUID('b7878aa7-f0e1-433c-b84f-edaabbd133d5'), 'customer_id': UUID('e1c15905-1ee6-4593-ba64-b538bfc36a8b'), 'product_id': UUID('67305145-a541-41b5-bdc8-064c50cc0698'), 'quantity': 3, 'order_date': datetime.datetime(2023, 4, 21, 22, 6, 3), 'total_amount': Decimal('476.81')}\n",
      "{'order_id': UUID('bde9188a-fea2-4f90-9645-4de2bd2ee1a5'), 'customer_id': UUID('225a7003-9741-40d0-9300-e165af29649b'), 'product_id': UUID('9f8b1eff-578d-4f09-82e6-0a989779828f'), 'quantity': 8, 'order_date': datetime.datetime(2023, 9, 26, 2, 52, 43), 'total_amount': Decimal('437.28')}\n",
      "{'order_id': UUID('288f2739-a9c2-4b52-8169-c9aff05b0d75'), 'customer_id': UUID('105d0c43-0eec-47a1-b7e0-ffa70f9ae7dd'), 'product_id': UUID('06c101d7-8c6d-4567-84f1-71be2fff5a9b'), 'quantity': 6, 'order_date': datetime.datetime(2023, 8, 25, 16, 26, 27), 'total_amount': Decimal('29.85')}\n",
      "{'order_id': UUID('dbbe2dba-7faa-4c21-a10c-336bdf1c6bd4'), 'customer_id': UUID('d12b6030-f860-42ab-8b4f-a4f279d4e22f'), 'product_id': UUID('1638d0f2-33fb-46d1-8782-1b2fadd28e82'), 'quantity': 8, 'order_date': datetime.datetime(2023, 12, 20, 7, 19, 14), 'total_amount': Decimal('494.42')}\n",
      "{'order_id': UUID('d782d242-50a0-4de2-8632-fb6a18769e6d'), 'customer_id': UUID('6229d752-cdcf-44be-9bd7-7ac09fda7f2c'), 'product_id': UUID('d927fabf-4337-4544-ac32-e5db768eebd2'), 'quantity': 8, 'order_date': datetime.datetime(2023, 9, 17, 0, 45, 57), 'total_amount': Decimal('399.54')}\n",
      "{'order_id': UUID('1e0ab356-3d05-428e-b253-8ecef96dad19'), 'customer_id': UUID('7ca2c480-383a-406e-8282-40a9af3f1adc'), 'product_id': UUID('8f0b3165-d75c-410f-8297-0cf600d66687'), 'quantity': 10, 'order_date': datetime.datetime(2023, 5, 7, 16, 44, 44), 'total_amount': Decimal('268.68')}\n",
      "{'order_id': UUID('a9bc6447-ff37-4566-a642-779f2acd5731'), 'customer_id': UUID('d1d21dff-59b3-4877-9f1e-2343836936db'), 'product_id': UUID('b6fa549f-b2b8-4c91-a877-d8b86c81cc15'), 'quantity': 1, 'order_date': datetime.datetime(2023, 9, 26, 4, 53, 44), 'total_amount': Decimal('138.68')}\n",
      "{'order_id': UUID('22fef5e4-fc49-40ce-a441-d550462d73ef'), 'customer_id': UUID('263c5ba6-15a0-40a1-841a-3376169cfc4f'), 'product_id': UUID('b9cb0ea8-b0c9-4eb0-9bf8-9b4ee45a2bef'), 'quantity': 7, 'order_date': datetime.datetime(2023, 11, 13, 18, 45, 24), 'total_amount': Decimal('367.81')}\n",
      "{'order_id': UUID('6dfead6c-6f6c-4068-b4ff-b6f69b20ccb5'), 'customer_id': UUID('2b33ec1b-e783-4a66-9bb3-71942f1c9413'), 'product_id': UUID('1f88f87a-9fc2-4084-8275-c1368768b280'), 'quantity': 8, 'order_date': datetime.datetime(2023, 3, 29, 11, 9, 37), 'total_amount': Decimal('156.30')}\n",
      "{'order_id': UUID('63443dd1-f404-4a19-994f-efa115a9d4c8'), 'customer_id': UUID('db58704a-e5b2-4bb0-9f1a-79cf5476d025'), 'product_id': UUID('5c1416e9-4b4a-4608-9b2d-4065019b1b8c'), 'quantity': 1, 'order_date': datetime.datetime(2023, 3, 25, 20, 27, 55), 'total_amount': Decimal('91.81')}\n",
      "{'order_id': UUID('76feb43d-5349-4f7a-9699-4a66d8ef32f6'), 'customer_id': UUID('d414bc46-4c16-4372-99d2-53cf75b083fc'), 'product_id': UUID('e3578485-a268-4b9e-9897-e22e86436ad9'), 'quantity': 3, 'order_date': datetime.datetime(2023, 2, 5, 14, 59, 31), 'total_amount': Decimal('265.24')}\n",
      "{'order_id': UUID('05b142f5-ad0c-4ac3-a919-9f5662bab82b'), 'customer_id': UUID('daa9dfbd-b861-4402-8d6d-33b942c13d24'), 'product_id': UUID('54fe8d8c-7bd9-4fe9-8019-11eb35e00f0c'), 'quantity': 10, 'order_date': datetime.datetime(2023, 6, 7, 6, 22, 33), 'total_amount': Decimal('393.04')}\n",
      "{'order_id': UUID('dcb804ed-80cd-4f57-8ff0-de44c82fab4e'), 'customer_id': UUID('f23c7971-ea68-429d-9147-340e8da647ff'), 'product_id': UUID('0b0cddd2-f2ba-4bdb-9f93-78fdf9d232af'), 'quantity': 9, 'order_date': datetime.datetime(2023, 8, 8, 5, 59, 8), 'total_amount': Decimal('384.54')}\n",
      "{'order_id': UUID('aa8c6119-b4f8-4491-8236-58615eb4e495'), 'customer_id': UUID('4217cef7-ff6f-4ccc-8ce1-568431cea58c'), 'product_id': UUID('4309975e-55ed-40e6-821b-31e69355eaac'), 'quantity': 8, 'order_date': datetime.datetime(2023, 7, 12, 10, 9, 23), 'total_amount': Decimal('342.06')}\n",
      "{'order_id': UUID('000ac439-29f0-441a-b890-2140d7d648b5'), 'customer_id': UUID('e3a6cd51-2e05-400a-a0a2-07c0df4f4e27'), 'product_id': UUID('9ac49f49-ee97-4b43-bcc5-101949a3506a'), 'quantity': 7, 'order_date': datetime.datetime(2023, 7, 6, 1, 44, 7), 'total_amount': Decimal('473.21')}\n",
      "{'order_id': UUID('71f5d9e5-9465-40f7-9af8-90bad6acefa2'), 'customer_id': UUID('e87cb95d-23e8-4d00-8599-b207c4fe60d1'), 'product_id': UUID('c4535832-e452-4a31-b5c6-ffc8eb281182'), 'quantity': 1, 'order_date': datetime.datetime(2023, 11, 17, 6, 37, 31), 'total_amount': Decimal('492.53')}\n",
      "{'order_id': UUID('37f95da5-2d90-4c29-9fb4-ba36705e92f8'), 'customer_id': UUID('9c0c7f7e-89dd-4d00-a66c-0952df3d907a'), 'product_id': UUID('23da7673-f137-452f-a4a5-928d2a6bf642'), 'quantity': 10, 'order_date': datetime.datetime(2023, 12, 2, 15, 12, 45), 'total_amount': Decimal('107.22')}\n",
      "{'order_id': UUID('90cc0fb2-a7b8-41ab-b840-3ffb788ce2ff'), 'customer_id': UUID('cb46dcc4-979f-4011-bf93-23b583ba0be7'), 'product_id': UUID('528951a9-7a01-48ee-b2c3-6e04e9c0a314'), 'quantity': 5, 'order_date': datetime.datetime(2023, 4, 29, 21, 33, 30), 'total_amount': Decimal('309.55')}\n",
      "{'order_id': UUID('f44614b9-2106-4c83-8c75-40a27ee1f9ec'), 'customer_id': UUID('2ca80a82-e7f4-4d4f-a3d9-2b08c5c04410'), 'product_id': UUID('a69f53ce-54ee-46d2-8a3a-fdc0d03446e4'), 'quantity': 7, 'order_date': datetime.datetime(2023, 8, 16, 17, 49, 54), 'total_amount': Decimal('404.00')}\n",
      "{'order_id': UUID('b0d41b41-ddb5-4144-924b-e6c285dd4580'), 'customer_id': UUID('ea00d703-b9fc-4084-b1d8-17c978abf3bf'), 'product_id': UUID('b3025b37-e6ec-4ce0-9aea-ac2441608bf3'), 'quantity': 4, 'order_date': datetime.datetime(2023, 2, 11, 2, 10, 1), 'total_amount': Decimal('283.40')}\n",
      "{'order_id': UUID('ffcd1ade-8553-4652-b074-930cc27814e1'), 'customer_id': UUID('43bf8889-862a-48c5-8972-a6762404b498'), 'product_id': UUID('cc95d1bc-2428-429e-a035-2eb01476b6af'), 'quantity': 9, 'order_date': datetime.datetime(2023, 4, 14, 8, 32, 30), 'total_amount': Decimal('424.09')}\n",
      "{'order_id': UUID('8593fdf2-b420-4f26-966c-d69e410839bd'), 'customer_id': UUID('e362c862-ddf7-4d18-ad7d-56847102ec62'), 'product_id': UUID('afe32985-8e65-4637-bd67-ff7a2b0eb92a'), 'quantity': 5, 'order_date': datetime.datetime(2023, 12, 27, 4, 27, 40), 'total_amount': Decimal('198.73')}\n",
      "{'order_id': UUID('36dc06db-ca7a-4560-9286-b2a8b41568e4'), 'customer_id': UUID('8a7c8c94-f276-42b9-9284-16b5df5d626a'), 'product_id': UUID('702758c0-39e5-4c6a-87ed-d69e8fe284b6'), 'quantity': 2, 'order_date': datetime.datetime(2023, 6, 27, 2, 0, 57), 'total_amount': Decimal('127.56')}\n"
     ]
    }
   ],
   "source": [
    "# Llamada a la función para obtener todo el contenido de la tabla sales\n",
    "sales_data = fetch_all_sales(session)\n",
    "\n",
    "# Mostrar los datos\n",
    "for sale in sales_data:\n",
    "    print(sale)"
   ]
  },
  {
   "cell_type": "code",
   "execution_count": 17,
   "id": "9fd25563-a08e-421b-b476-7d81cd6805ab",
   "metadata": {
    "tags": []
   },
   "outputs": [],
   "source": [
    "import pandas as pd\n",
    "from IPython.display import display\n",
    "\n",
    "def display_documents_as_table(documents):\n",
    "    \"\"\"\n",
    "    Muestra un array de documentos como una tabla en un Jupyter Notebook.\n",
    "    :param documents: Lista de diccionarios donde cada diccionario representa un documento.\n",
    "    \"\"\"\n",
    "    df = pd.DataFrame(documents)\n",
    "    display(df)"
   ]
  },
  {
   "cell_type": "code",
   "execution_count": 18,
   "id": "195f1953-ca6f-40da-8b84-cd883ce218b5",
   "metadata": {
    "tags": []
   },
   "outputs": [
    {
     "data": {
      "text/html": [
       "<div>\n",
       "<style scoped>\n",
       "    .dataframe tbody tr th:only-of-type {\n",
       "        vertical-align: middle;\n",
       "    }\n",
       "\n",
       "    .dataframe tbody tr th {\n",
       "        vertical-align: top;\n",
       "    }\n",
       "\n",
       "    .dataframe thead th {\n",
       "        text-align: right;\n",
       "    }\n",
       "</style>\n",
       "<table border=\"1\" class=\"dataframe\">\n",
       "  <thead>\n",
       "    <tr style=\"text-align: right;\">\n",
       "      <th></th>\n",
       "      <th>order_id</th>\n",
       "      <th>customer_id</th>\n",
       "      <th>product_id</th>\n",
       "      <th>quantity</th>\n",
       "      <th>order_date</th>\n",
       "      <th>total_amount</th>\n",
       "    </tr>\n",
       "  </thead>\n",
       "  <tbody>\n",
       "    <tr>\n",
       "      <th>0</th>\n",
       "      <td>6cc3c07f-a626-4270-a357-ece2096dd257</td>\n",
       "      <td>caea7623-e6c7-4340-8230-44b32a8da7d8</td>\n",
       "      <td>1ed7ab07-3c32-4506-b02a-bd5fb362a246</td>\n",
       "      <td>3</td>\n",
       "      <td>2024-05-31 17:25:03.021</td>\n",
       "      <td>150.75</td>\n",
       "    </tr>\n",
       "  </tbody>\n",
       "</table>\n",
       "</div>"
      ],
      "text/plain": [
       "                               order_id                           customer_id  \\\n",
       "0  6cc3c07f-a626-4270-a357-ece2096dd257  caea7623-e6c7-4340-8230-44b32a8da7d8   \n",
       "\n",
       "                             product_id  quantity              order_date  \\\n",
       "0  1ed7ab07-3c32-4506-b02a-bd5fb362a246         3 2024-05-31 17:25:03.021   \n",
       "\n",
       "  total_amount  \n",
       "0       150.75  "
      ]
     },
     "metadata": {},
     "output_type": "display_data"
    }
   ],
   "source": [
    "# Llamada a la función para obtener todo el contenido de la tabla sales\n",
    "sales_data = fetch_all_sales(session)\n",
    "display_documents_as_table(sales_data)"
   ]
  },
  {
   "cell_type": "markdown",
   "id": "7c0d3589",
   "metadata": {},
   "source": [
    "## Cerrar la Conexión\n",
    "\n",
    "Finalmente, cerramos la conexión al clúster de Cassandra."
   ]
  },
  {
   "cell_type": "code",
   "execution_count": 11,
   "id": "8b9fc27e",
   "metadata": {},
   "outputs": [],
   "source": [
    "# Cerrar la conexión\n",
    "cluster.shutdown()"
   ]
  }
 ],
 "metadata": {
  "kernelspec": {
   "display_name": "Python 3 (ipykernel)",
   "language": "python",
   "name": "python3"
  },
  "language_info": {
   "codemirror_mode": {
    "name": "ipython",
    "version": 3
   },
   "file_extension": ".py",
   "mimetype": "text/x-python",
   "name": "python",
   "nbconvert_exporter": "python",
   "pygments_lexer": "ipython3",
   "version": "3.9.18"
  }
 },
 "nbformat": 4,
 "nbformat_minor": 5
}
