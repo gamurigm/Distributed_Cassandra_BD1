{
 "cells": [
  {
   "cell_type": "markdown",
   "id": "2b3a845f-842f-4d7a-9537-a63af4051d52",
   "metadata": {},
   "source": [
    "## Paso 1: Actualizar los comandos de Docker para exponer el puerto 9042:\n",
    "\n",
    "```markdown\n",
    "# Conectar a un cluster de Cassandra desde Python\n",
    "\n",
    "Este notebook proporciona los pasos para configurar y conectar un cluster de Cassandra utilizando Docker y Python. También incluye instrucciones para monitorizar los nodos y la consistencia de los datos.\n",
    "\n",
    "## Paso 1: Configurar los contenedores de Cassandra\n",
    "\n",
    "Primero, necesitamos configurar los contenedores de Cassandra utilizando Docker. Ejecuta los siguientes comandos en tu terminal para crear y arrancar los contenedores:\n",
    "```bash\n",
    "# Crear la red de Docker\n",
    "docker network create cassandra-net\n",
    "\n",
    "# Arrancar los contenedores de Cassandra\n",
    "docker run -d --name cassandra-1 --network cassandra-net -e CASSANDRA_CLUSTER_NAME=\"UNIR_Cluster\" -e CASSANDRA_SEEDS=\"cassandra-1\" -e CASSANDRA_BROADCAST_ADDRESS=\"cassandra-1\" -p 9042:9042 cassandra\n",
    "\n",
    "docker run -d --name cassandra-2 --network cassandra-net -e CASSANDRA_CLUSTER_NAME=\"UNIR_Cluster\" -e CASSANDRA_SEEDS=\"cassandra-1\" -e CASSANDRA_BROADCAST_ADDRESS=\"cassandra-2\" cassandra\n",
    "\n",
    "docker run -d --name cassandra-3 --network cassandra-net -e CASSANDRA_CLUSTER_NAME=\"UNIR_Cluster\" -e CASSANDRA_SEEDS=\"cassandra-1\" -e CASSANDRA_BROADCAST_ADDRESS=\"cassandra-3\" cassandra\n",
    "```\n",
    "\n",
    "## Paso 2: Verificar que los contenedores están listos\n",
    "\n",
    "Es importante asegurarse de que los contenedores estén listos antes de intentar conectarse a ellos. Puedes usar los siguientes comandos para verificar los logs de los contenedores:\n",
    "```bash\n",
    "docker logs -f cassandra-1\n",
    "```\n",
    "\n",
    "## Paso 3: Instalar el cliente de Cassandra para Python\n",
    "\n",
    "Necesitamos instalar la biblioteca `cassandra-driver` para conectarnos a Cassandra desde Python. Ejecuta la siguiente celda para instalarla:\n",
    "```python\n",
    "!pip install cassandra-driver\n",
    "```\n",
    "\n",
    "## Paso 4: Conectarse a Cassandra desde Python\n",
    "\n",
    "Ahora podemos conectarnos a Cassandra desde Python utilizando la biblioteca `cassandra-driver`. El siguiente código establece una conexión y ejecuta una consulta simple para verificar que la conexión es exitosa."
   ]
  },
  {
   "cell_type": "code",
   "execution_count": 2,
   "id": "1f54d2f6-9fcf-4a2f-8388-24c5593517ce",
   "metadata": {
    "tags": []
   },
   "outputs": [
    {
     "name": "stdout",
     "output_type": "stream",
     "text": [
      "Cassandra release version: 4.1.5\n"
     ]
    }
   ],
   "source": [
    "from cassandra.cluster import Cluster\n",
    "\n",
    "# Conectarse al cluster\n",
    "cluster = Cluster(['localhost'])  # Cambiar 'localhost' por la IP del host si no se está ejecutando localmente\n",
    "session = cluster.connect()\n",
    "\n",
    "# Ejecutar una consulta simple\n",
    "row = session.execute(\"SELECT release_version FROM system.local\").one()\n",
    "if row:\n",
    "    print(f\"Cassandra release version: {row[0]}\")\n",
    "else:\n",
    "    print(\"An error occurred.\")"
   ]
  },
  {
   "cell_type": "markdown",
   "id": "d7f5a200-e1f8-44f4-9f76-516e85522fe7",
   "metadata": {
    "tags": []
   },
   "source": [
    "## Paso 5: Monitorizar los nodos de Cassandra\n",
    "\n",
    "Podemos usar las herramientas `nodetool` y `cqlsh` incluidas en los contenedores de Cassandra para monitorizar el estado de los nodos y la consistencia de los datos.\n",
    "\n",
    "### Monitorizar el estado de los nodos\n",
    "\n",
    "Usa el siguiente comando para ver el estado de los nodos:\n",
    "```bash\n",
    "docker exec -it cassandra-1 nodetool status\n",
    "```\n",
    "\n",
    "### Verificar la consistencia de los datos\n",
    "\n",
    "Para verificar la consistencia de los datos, puedes usar el siguiente comando con `cqlsh`:\n",
    "```bash\n",
    "docker exec -it cassandra-1 cqlsh -e \"CONSISTENCY;\"\n",
    "```\n",
    "```"
   ]
  },
  {
   "cell_type": "code",
   "execution_count": null,
   "id": "deb8864b-c132-440e-a0fc-2f81c105c2dc",
   "metadata": {},
   "outputs": [],
   "source": []
  }
 ],
 "metadata": {
  "kernelspec": {
   "display_name": "Python 3 (ipykernel)",
   "language": "python",
   "name": "python3"
  },
  "language_info": {
   "codemirror_mode": {
    "name": "ipython",
    "version": 3
   },
   "file_extension": ".py",
   "mimetype": "text/x-python",
   "name": "python",
   "nbconvert_exporter": "python",
   "pygments_lexer": "ipython3",
   "version": "3.9.18"
  }
 },
 "nbformat": 4,
 "nbformat_minor": 5
}
