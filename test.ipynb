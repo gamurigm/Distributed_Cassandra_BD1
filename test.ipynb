{
 "cells": [
  {
   "cell_type": "markdown",
   "id": "a7ed6ef7",
   "metadata": {},
   "source": [
    "# Caso de Estudio: Implementación de una Base de Datos Distribuida en Cassandra para la Plataforma de Pedidos \"FastEat\""
   ]
  },
  {
   "cell_type": "markdown",
   "id": "0708ec28",
   "metadata": {},
   "source": [
    "## Definición del problema"
   ]
  },
  {
   "cell_type": "markdown",
   "id": "0f726d19",
   "metadata": {},
   "source": [
    "### Descripción del Escenario Empresarial \n",
    "\n",
    "\"FastEat\" es una cadena de restaurantes con presencia en varias ciudades de Latinoamérica. Para incrementar sus ventas y mejorar la experiencia de sus clientes, la empresa ha lanzado una plataforma digital de gestión de pedidos y entregas a domicilio, la cual permite a los usuarios realizar órdenes en línea, personalizar sus platos, rastrear el estado de sus pedidos en tiempo real y calificar el servicio recibido.\n",
    "\n",
    "La expansión acelerada de la cadena y el éxito de la plataforma han hecho que el volumen de transacciones crezca rápidamente, especialmente en horarios pico y durante promociones especiales. Además, la empresa planea implementar un sistema de recomendaciones personalizadas para sugerir platillos a los clientes según su historial y ubicación, así como análisis en tiempo real de las preferencias de los usuarios.\n",
    "\n",
    "La plataforma debe operar de manera continua (24/7), soportar miles de operaciones simultáneas y garantizar que la información de pedidos y entregas sea precisa, rápida y esté siempre disponible, incluso en caso de fallos o caídas de algún servidor.\n",
    "\n",
    "### Problema a Resolver\n",
    "\n",
    "El sistema de base de datos relacional utilizado inicialmente por FastEat ha comenzado a presentar graves problemas de rendimiento: demoras en la consulta de pedidos durante horas pico, dificultades para escalar la infraestructura ante el crecimiento de la demanda y limitaciones para integrar nuevos módulos como la recomendación personalizada o el análisis de datos en tiempo real.\n",
    "\n",
    "Por este motivo, la dirección tecnológica de FastEat ha decidido migrar la plataforma a una base de datos distribuida basada en Cassandra, con el objetivo de asegurar escalabilidad, alta disponibilidad y tolerancia a fallos, además de facilitar el manejo eficiente de grandes volúmenes de datos y transacciones concurrentes.\n",
    "\n",
    "### Objetivos del Proyecto\n",
    "\n",
    "1. Analizar los requerimientos funcionales del sistema de pedidos y entregas de FastEat, identificando los tipos de datos principales, relaciones y operaciones críticas de consulta y escritura.\n",
    "2. Diseñar un modelo de datos eficiente para Cassandra, aplicando las mejores prácticas de bases de datos NoSQL, optimizando consultas y garantizando la integridad de la información.\n",
    "3. Definir la estructura de tablas, claves de partición y clustering keys más adecuadas para responder a los retos de la plataforma (consultas por usuario, seguimiento de pedidos, historial de entregas, etc.).\n",
    "4. Proponer una estrategia de despliegue en contenedores Docker para la infraestructura de Cassandra, asegurando escalabilidad horizontal y alta disponibilidad. \n",
    "5. Justificar las decisiones de diseño en función de los escenarios de uso y los retos operativos descritos.\n",
    "6. Los datos deben ser leidos (desde python con jupyther) de un archivo externo tipo json para que sean insertados en la tabla  \n",
    "7. Desarrollar y ejecutar un conjunto de consultas esenciales sobre la base de datos implementada utilizando Python en Jupyter Notebook para la conexión y análisis de los datos. Las consultas deben demostrar la recuperación de pedidos, inserción de nuevos pedidos, actualización del estado de entregas y generación de reportes simples.\n",
    "\n",
    "### Indicaciones para el Estudiante\n",
    "\n",
    "Como desarrolladores responsables del proyecto, deberán analizar el escenario presentado y diseñar una solución de base de datos distribuida en Cassandra que cumpla con los requisitos de FastEat. Se espera un documento técnico donde describan el modelo de datos propuesto, justifiquen la elección de las tablas y claves, y detallen la estrategia de despliegue en Docker.\n",
    "\n",
    "Además, deben preparar y ejecutar, en Jupyter Notebook, consultas relevantes sobre la base de datos usando Python (por ejemplo, empleando la librería `cassandra-driver`). Deberán incluir ejemplos de inserción de pedidos, consultas de estado, actualización de entregas y visualizaciones de datos relevantes.\n",
    "\n",
    "El enfoque del trabajo debe estar en la eficiencia, escalabilidad y disponibilidad del sistema, demostrando dominio de la integración entre bases de datos distribuidas y herramientas modernas de análisis de datos."
   ]
  },
  {
   "cell_type": "markdown",
   "id": "3e636ce7",
   "metadata": {},
   "source": [
    "## Docker setup"
   ]
  },
  {
   "cell_type": "markdown",
   "id": "abea58c1",
   "metadata": {},
   "source": [
    "### Red\n",
    "\n",
    "```bash\n",
    "docker network create cassandra-net\n",
    "```\n",
    "### Nodos\n",
    "\n",
    "#### `cassandra-1`\n",
    "\n",
    "```bash\n",
    "docker run -d --name cassandra-1 --network cassandra-net \\\n",
    "  --memory=4g --memory-swap=4g \\\n",
    "  -e CASSANDRA_CLUSTER_NAME=\"UNIR_Cluster\" \\\n",
    "  -e CASSANDRA_SEEDS=\"cassandra-1\" \\\n",
    "  -e CASSANDRA_BROADCAST_ADDRESS=\"cassandra-1\" \\\n",
    "  -e CASSANDRA_START_RPC=true \\\n",
    "  -e CASSANDRA_ENDPOINT_SNITCH=GossipingPropertyFileSnitch \\\n",
    "  -e MAX_HEAP_SIZE=1024M \\\n",
    "  -e HEAP_NEWSIZE=256M \\\n",
    "  -p 9042:9042 \\\n",
    "  cassandra\n",
    "\n",
    "```\n",
    "\n",
    "#### `cassandra-2`\n",
    "\n",
    "```bash\n",
    "docker run -d --name cassandra-2 --network cassandra-net \\\n",
    "  --memory=4g --memory-swap=4g \\\n",
    "  -e CASSANDRA_CLUSTER_NAME=\"UNIR_Cluster\" \\\n",
    "  -e CASSANDRA_SEEDS=\"cassandra-1\" \\\n",
    "  -e CASSANDRA_BROADCAST_ADDRESS=\"cassandra-2\" \\\n",
    "  -e CASSANDRA_ENDPOINT_SNITCH=GossipingPropertyFileSnitch \\\n",
    "  -e MAX_HEAP_SIZE=1024M \\\n",
    "  -e HEAP_NEWSIZE=256M \\\n",
    "  cassandra\n",
    "\n",
    "```\n",
    "\n",
    "#### `cassandra-3`\n",
    "\n",
    "```bash\n",
    "docker run -d --name cassandra-3 --network cassandra-net \\\n",
    "  --memory=4g --memory-swap=4g \\\n",
    "  -e CASSANDRA_CLUSTER_NAME=\"UNIR_Cluster\" \\\n",
    "  -e CASSANDRA_SEEDS=\"cassandra-1\" \\\n",
    "  -e CASSANDRA_BROADCAST_ADDRESS=\"cassandra-3\" \\\n",
    "  -e CASSANDRA_ENDPOINT_SNITCH=GossipingPropertyFileSnitch \\\n",
    "  -e MAX_HEAP_SIZE=2048M -e HEAP_NEWSIZE=800M \\\n",
    "  cassandra\n",
    "\n",
    "```"
   ]
  },
  {
   "cell_type": "markdown",
   "id": "462e54be",
   "metadata": {},
   "source": [
    "## Jupyter"
   ]
  },
  {
   "cell_type": "code",
   "execution_count": 3,
   "id": "87e990c9",
   "metadata": {},
   "outputs": [],
   "source": [
    "# Importar las bibliotecas necesarias\n",
    "from cassandra.cluster import Cluster\n",
    "from cassandra.query import SimpleStatement\n",
    "from datetime import datetime\n",
    "\n",
    "import uuid"
   ]
  },
  {
   "cell_type": "markdown",
   "id": "60eaecc2",
   "metadata": {},
   "source": [
    "### Posible JSON inicial"
   ]
  },
  {
   "cell_type": "markdown",
   "id": "8ef567e7",
   "metadata": {},
   "source": []
  },
  {
   "cell_type": "code",
   "execution_count": 4,
   "id": "e9f23aee",
   "metadata": {
    "slideshow": {
     "slide_type": "slide"
    }
   },
   "outputs": [],
   "source": [
    "initial_data = [\n",
    "    {\n",
    "        'user': {\n",
    "            'user_id': 'U00001',\n",
    "            'name': 'Ana Torres',\n",
    "            'phone': '0987654321',\n",
    "            'city': 'Quito',\n",
    "            'location': {\n",
    "                'longitude': -78.4678,\n",
    "                'latitude': -0.1807\n",
    "            }\n",
    "        },\n",
    "        'orders': [\n",
    "            {\n",
    "                'order_id': 'O00001',\n",
    "                'order_timestamp': '2025-07-16T10:12:00',\n",
    "                'items': [\n",
    "                    {\n",
    "                        'item_id': 'I404',\n",
    "                        'name': 'Pizza Margarita',\n",
    "                        'quantity': 1,\n",
    "                        'customizations': [],\n",
    "                        'price': 10.00,\n",
    "                        'total': 10.00\n",
    "                    }\n",
    "                ],\n",
    "                'taxes': 1.50,\n",
    "                'delivery_price': 1.80,\n",
    "                'total': 13.30,\n",
    "                'latest': {\n",
    "                    'status': 'delivered',\n",
    "                    'location': {\n",
    "                        'longitude': -78.4678,\n",
    "                        'latitude': -0.1807\n",
    "                    },\n",
    "                    'update_timestamp': '2025-07-16T10:50:00'\n",
    "                },\n",
    "                'review': {\n",
    "                    'comments' : 'Me gustó el servicio!',\n",
    "                    'rating': 5,\n",
    "                    'timestamp': '2025-07-16T10:55:00'\n",
    "                }\n",
    "            }\n",
    "        ]\n",
    "    }\n",
    "]"
   ]
  },
  {
   "cell_type": "markdown",
   "id": "ac4345a4",
   "metadata": {},
   "source": [
    "### Prueba de conexión"
   ]
  },
  {
   "cell_type": "code",
   "execution_count": 5,
   "id": "7a8cb7a4",
   "metadata": {},
   "outputs": [
    {
     "name": "stdout",
     "output_type": "stream",
     "text": [
      "Cassandra release version: 5.0.4\n"
     ]
    }
   ],
   "source": [
    "# Conectarse al cluster\n",
    "cluster = Cluster(['localhost'], port=9042) # Cambiar 'localhost' por la IP del host si no se está ejecutando localmente\n",
    "session = cluster.connect()\n",
    "\n",
    "# Ejecutar una consulta simple\n",
    "row = session.execute(\"SELECT release_version FROM system.local\").one()\n",
    "if row:\n",
    "    print(f\"Cassandra release version: {row[0]}\")\n",
    "else:\n",
    "    print(\"An error occurred.\")"
   ]
  },
  {
   "cell_type": "markdown",
   "id": "eda86fcc",
   "metadata": {},
   "source": [
    "### Gestión de Keyspaces"
   ]
  },
  {
   "cell_type": "code",
   "execution_count": 6,
   "id": "2492b406",
   "metadata": {},
   "outputs": [
    {
     "name": "stdout",
     "output_type": "stream",
     "text": [
      "system_auth\n",
      "system_schema\n",
      "fast_eat\n",
      "system_distributed\n",
      "system\n",
      "system_traces\n"
     ]
    }
   ],
   "source": [
    "# Listar los keyspaces existentes\n",
    "rows = session.execute(\"SELECT keyspace_name FROM system_schema.keyspaces\")\n",
    "for row in rows:\n",
    "    print(row.keyspace_name)"
   ]
  },
  {
   "cell_type": "code",
   "execution_count": 9,
   "id": "9aca1c6c",
   "metadata": {},
   "outputs": [
    {
     "data": {
      "text/plain": [
       "<cassandra.cluster.ResultSet at 0x7f175e416920>"
      ]
     },
     "execution_count": 9,
     "metadata": {},
     "output_type": "execute_result"
    }
   ],
   "source": [
    "# Crear un keyspace\n",
    "session.execute(\"CREATE KEYSPACE IF NOT EXISTS fast_eat WITH replication = {'class': 'SimpleStrategy', 'replication_factor': '3'}\")"
   ]
  },
  {
   "cell_type": "code",
   "execution_count": 8,
   "id": "97719c27",
   "metadata": {},
   "outputs": [
    {
     "data": {
      "text/plain": [
       "<cassandra.cluster.ResultSet at 0x7f175dd57790>"
      ]
     },
     "execution_count": 8,
     "metadata": {},
     "output_type": "execute_result"
    }
   ],
   "source": [
    "# Eliminar el keyspace creado\n",
    "session.execute(\"DROP KEYSPACE IF EXISTS fast_eat\")"
   ]
  },
  {
   "cell_type": "code",
   "execution_count": 10,
   "id": "237e9a71",
   "metadata": {},
   "outputs": [],
   "source": [
    "# Usar el keyspace 'fast_eat'\n",
    "session.set_keyspace('fast_eat')"
   ]
  },
  {
   "cell_type": "code",
   "execution_count": 11,
   "id": "e092b360",
   "metadata": {},
   "outputs": [
    {
     "data": {
      "text/plain": [
       "<cassandra.cluster.ResultSet at 0x7f1754bfa170>"
      ]
     },
     "execution_count": 11,
     "metadata": {},
     "output_type": "execute_result"
    }
   ],
   "source": [
    "# Crear tipo de dato location\n",
    "session.execute(\"\"\"\n",
    "    CREATE TYPE IF NOT EXISTS location (\n",
    "        longitude FLOAT,\n",
    "        latitude FLOAT\n",
    "    )\n",
    "\"\"\")"
   ]
  },
  {
   "cell_type": "markdown",
   "id": "78a33f43",
   "metadata": {},
   "source": [
    "### Gestión de Tablas"
   ]
  },
  {
   "cell_type": "code",
   "execution_count": 12,
   "id": "52a007a0",
   "metadata": {},
   "outputs": [
    {
     "data": {
      "text/plain": [
       "<cassandra.cluster.ResultSet at 0x7f175dd57550>"
      ]
     },
     "execution_count": 12,
     "metadata": {},
     "output_type": "execute_result"
    }
   ],
   "source": [
    "# Crear tabla de usuarios\n",
    "session.execute(\"\"\"\n",
    "    CREATE TABLE IF NOT EXISTS users (\n",
    "        user_id TEXT PRIMARY KEY,\n",
    "        name TEXT,\n",
    "        phone TEXT,\n",
    "        city TEXT,\n",
    "        location FROZEN<location>\n",
    "    )\n",
    "\"\"\")"
   ]
  },
  {
   "cell_type": "code",
   "execution_count": 13,
   "id": "3d32c276",
   "metadata": {},
   "outputs": [],
   "source": [
    "class Location:\n",
    "    def __init__(self, longitude, latitude):\n",
    "        self.longitude = longitude\n",
    "        self.latitude = latitude\n",
    "\n",
    "cluster.register_user_type('fast_eat', 'location', Location)\n",
    "\n",
    "# Insertar datos iniciales\n",
    "for data in initial_data:\n",
    "    user = data['user']\n",
    "    location = Location(user['location']['longitude'], user['location']['latitude'])\n",
    "    session.execute(\"\"\"\n",
    "        INSERT INTO users (user_id, name, phone, city, location)\n",
    "        VALUES (%s, %s, %s, %s, %s)\n",
    "    \"\"\", (user['user_id'], user['name'], user['phone'], user['city'], location))"
   ]
  },
  {
   "cell_type": "code",
   "execution_count": 14,
   "id": "894f36a7",
   "metadata": {},
   "outputs": [
    {
     "name": "stdout",
     "output_type": "stream",
     "text": [
      "User ID: U00001, Name: Ana Torres, Phone: 0987654321, City: Quito, Location: (-78.4677963256836, -0.18070000410079956)\n"
     ]
    }
   ],
   "source": [
    "# Mostrar los usuarios insertados\n",
    "rows = session.execute(\"SELECT * FROM users\")\n",
    "for row in rows:\n",
    "    print(f\"User ID: {row.user_id}, Name: {row.name}, Phone: {row.phone}, City: {row.city}, Location: ({row.location.longitude}, {row.location.latitude})\")"
   ]
  },
  {
   "cell_type": "code",
   "execution_count": 15,
   "id": "09e7f9d2",
   "metadata": {},
   "outputs": [
    {
     "data": {
      "text/plain": [
       "<cassandra.cluster.ResultSet at 0x7f1754bf87f0>"
      ]
     },
     "execution_count": 15,
     "metadata": {},
     "output_type": "execute_result"
    }
   ],
   "source": [
    "# Crear tabla de pedidos por usuario en Cassandra\n",
    "session.execute(\"\"\"\n",
    "    CREATE TABLE IF NOT EXISTS orders_by_user (\n",
    "        user_id TEXT,\n",
    "        order_id TEXT,\n",
    "        order_date TIMESTAMP,\n",
    "        items LIST<TEXT>,\n",
    "        total FLOAT,\n",
    "        status TEXT,\n",
    "        PRIMARY KEY (user_id, order_date, order_id)\n",
    "    )\n",
    "\"\"\")"
   ]
  },
  {
   "cell_type": "markdown",
   "id": "44261d7b",
   "metadata": {},
   "source": [
    "## gabi"
   ]
  },
  {
   "cell_type": "code",
   "execution_count": 16,
   "id": "2d7f49d0",
   "metadata": {},
   "outputs": [],
   "source": [
    "# Insertar pedidos en la tabla orders_by_user\n",
    "for data in initial_data:\n",
    "    user = data['user']\n",
    "    user_id = user['user_id']\n",
    "    for order in data['orders']:\n",
    "        order_id = order['order_id']\n",
    "        order_date = datetime.fromisoformat(order['order_timestamp'])\n",
    "        items = [item['name'] for item in order['items']]\n",
    "        total = order['total']\n",
    "        status = order['latest']['status']\n",
    "        session.execute(\"\"\"\n",
    "            INSERT INTO orders_by_user (user_id, order_id, order_date, items, total, status)\n",
    "            VALUES (%s, %s, %s, %s, %s, %s)\n",
    "        \"\"\", (user_id, order_id, order_date, items, total, status))"
   ]
  },
  {
   "cell_type": "code",
   "execution_count": 20,
   "id": "bbc76ff3",
   "metadata": {},
   "outputs": [
    {
     "data": {
      "text/plain": [
       "<cassandra.cluster.ResultSet at 0x7f175db215a0>"
      ]
     },
     "execution_count": 20,
     "metadata": {},
     "output_type": "execute_result"
    }
   ],
   "source": [
    "# Crear tabla principal de pedidos (orders)\n",
    "session.execute(\"\"\"\n",
    "    CREATE TABLE IF NOT EXISTS orders (\n",
    "        order_id TEXT PRIMARY KEY,\n",
    "        user_id TEXT,\n",
    "        order_timestamp TIMESTAMP,\n",
    "        items LIST<TEXT>,\n",
    "        taxes FLOAT,\n",
    "        delivery_price FLOAT,\n",
    "        total FLOAT,\n",
    "        status TEXT,\n",
    "        status_location FROZEN<location>,\n",
    "        status_update_timestamp TIMESTAMP,\n",
    "        review_comments TEXT,\n",
    "        review_rating INT,\n",
    "        review_timestamp TIMESTAMP,\n",
    "        city TEXT\n",
    "    )\n",
    "\"\"\")\n",
    "\n",
    "# Crear tabla de pedidos por ciudad\n",
    "session.execute(\"\"\"\n",
    "    CREATE TABLE IF NOT EXISTS orders_by_city (\n",
    "        city TEXT,\n",
    "        order_date TIMESTAMP,\n",
    "        order_id TEXT,\n",
    "        user_id TEXT,\n",
    "        status TEXT,\n",
    "        total FLOAT,\n",
    "        PRIMARY KEY (city, order_date, order_id)\n",
    "    )\n",
    "\"\"\")\n",
    "\n",
    "# Crear tabla de reviews por usuario\n",
    "session.execute(\"\"\"\n",
    "    CREATE TABLE IF NOT EXISTS reviews_by_user (\n",
    "        user_id TEXT,\n",
    "        review_timestamp TIMESTAMP,\n",
    "        order_id TEXT,\n",
    "        review_comments TEXT,\n",
    "        review_rating INT,\n",
    "        PRIMARY KEY (user_id, review_timestamp, order_id)\n",
    "    )\n",
    "\"\"\")"
   ]
  },
  {
   "cell_type": "code",
   "execution_count": 21,
   "id": "2be20364",
   "metadata": {},
   "outputs": [],
   "source": [
    "# Insertar datos en la tabla orders\n",
    "for data in initial_data:\n",
    "    user = data['user']\n",
    "    user_id = user['user_id']\n",
    "    city = user['city']\n",
    "    for order in data['orders']:\n",
    "        order_id = order['order_id']\n",
    "        order_timestamp = datetime.fromisoformat(order['order_timestamp'])\n",
    "        items = [item['name'] for item in order['items']]\n",
    "        taxes = order['taxes']\n",
    "        delivery_price = order['delivery_price']\n",
    "        total = order['total']\n",
    "        status = order['latest']['status']\n",
    "        status_location = Location(order['latest']['location']['longitude'], order['latest']['location']['latitude'])\n",
    "        status_update_timestamp = datetime.fromisoformat(order['latest']['update_timestamp'])\n",
    "        review_comments = order['review']['comments']\n",
    "        review_rating = order['review']['rating']\n",
    "        review_timestamp = datetime.fromisoformat(order['review']['timestamp'])\n",
    "        session.execute(\"\"\"\n",
    "            INSERT INTO orders (order_id, user_id, order_timestamp, items, taxes, delivery_price, total, status, status_location, status_update_timestamp, review_comments, review_rating, review_timestamp, city)\n",
    "            VALUES (%s, %s, %s, %s, %s, %s, %s, %s, %s, %s, %s, %s, %s, %s)\n",
    "        \"\"\", (order_id, user_id, order_timestamp, items, taxes, delivery_price, total, status, status_location, status_update_timestamp, review_comments, review_rating, review_timestamp, city))\n",
    "\n",
    "# Insertar datos en la tabla orders_by_city\n",
    "        session.execute(\"\"\"\n",
    "            INSERT INTO orders_by_city (city, order_date, order_id, user_id, status, total)\n",
    "            VALUES (%s, %s, %s, %s, %s, %s)\n",
    "        \"\"\", (city, order_timestamp, order_id, user_id, status, total))\n",
    "\n",
    "# Insertar datos en la tabla reviews_by_user\n",
    "        session.execute(\"\"\"\n",
    "            INSERT INTO reviews_by_user (user_id, review_timestamp, order_id, review_comments, review_rating)\n",
    "            VALUES (%s, %s, %s, %s, %s)\n",
    "        \"\"\", (user_id, review_timestamp, order_id, review_comments, review_rating))"
   ]
  },
  {
   "cell_type": "markdown",
   "id": "a7617b93",
   "metadata": {},
   "source": [
    "## Consultas esenciales sobre la base de datos"
   ]
  },
  {
   "cell_type": "code",
   "execution_count": 22,
   "id": "f5c12ca9",
   "metadata": {},
   "outputs": [
    {
     "name": "stdout",
     "output_type": "stream",
     "text": [
      "Order ID: O00001, Date: 2025-07-16 10:12:00, Items: ['Pizza Margarita'], Status: pending, Total: 13.300000190734863\n"
     ]
    }
   ],
   "source": [
    "# Recuperar todos los pedidos de un usuario\n",
    "user_id = 'U00001'\n",
    "rows = session.execute(\"SELECT * FROM orders_by_user WHERE user_id=%s\", [user_id])\n",
    "for row in rows:\n",
    "    print(f\"Order ID: {row.order_id}, Date: {row.order_date}, Items: {row.items}, Status: {row.status}, Total: {row.total}\")"
   ]
  },
  {
   "cell_type": "code",
   "execution_count": 23,
   "id": "2ff201ea",
   "metadata": {},
   "outputs": [
    {
     "name": "stdout",
     "output_type": "stream",
     "text": [
      "Order ID: O00001, Date: 2025-07-16 10:12:00, User: U00001, Status: delivered, Total: 13.300000190734863\n"
     ]
    }
   ],
   "source": [
    "# Consultar pedidos por ciudad y fecha\n",
    "city = 'Quito'\n",
    "rows = session.execute(\"SELECT * FROM orders_by_city WHERE city=%s\", [city])\n",
    "for row in rows:\n",
    "    print(f\"Order ID: {row.order_id}, Date: {row.order_date}, User: {row.user_id}, Status: {row.status}, Total: {row.total}\")"
   ]
  },
  {
   "cell_type": "code",
   "execution_count": 24,
   "id": "a52a83f8",
   "metadata": {},
   "outputs": [
    {
     "name": "stdout",
     "output_type": "stream",
     "text": [
      "Estado actualizado para el pedido O00001\n"
     ]
    }
   ],
   "source": [
    "# Actualizar estado de entrega de un pedido\n",
    "order_id = 'O00001'\n",
    "new_status = 'received'\n",
    "session.execute(\"UPDATE orders SET status=%s WHERE order_id=%s\", [new_status, order_id])\n",
    "print(f\"Estado actualizado para el pedido {order_id}\")"
   ]
  },
  {
   "cell_type": "code",
   "execution_count": 25,
   "id": "95e6d6c1",
   "metadata": {},
   "outputs": [
    {
     "name": "stdout",
     "output_type": "stream",
     "text": [
      "Order: O00001, Rating: 5, Comments: Me gustó el servicio!, Timestamp: 2025-07-16 10:55:00\n"
     ]
    }
   ],
   "source": [
    "# Generar reporte simple de reviews por usuario\n",
    "user_id = 'U00001'\n",
    "rows = session.execute(\"SELECT * FROM reviews_by_user WHERE user_id=%s\", [user_id])\n",
    "for row in rows:\n",
    "    print(f\"Order: {row.order_id}, Rating: {row.review_rating}, Comments: {row.review_comments}, Timestamp: {row.review_timestamp}\")"
   ]
  }
 ],
 "metadata": {
  "kernelspec": {
   "display_name": "venv",
   "language": "python",
   "name": "python3"
  },
  "language_info": {
   "codemirror_mode": {
    "name": "ipython",
    "version": 3
   },
   "file_extension": ".py",
   "mimetype": "text/x-python",
   "name": "python",
   "nbconvert_exporter": "python",
   "pygments_lexer": "ipython3",
   "version": "3.10.12"
  }
 },
 "nbformat": 4,
 "nbformat_minor": 5
}
